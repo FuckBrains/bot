{
  "nbformat": 4,
  "nbformat_minor": 0,
  "metadata": {
    "colab": {
      "name": "youtube_v3_autoupload().ipynb",
      "provenance": [],
      "collapsed_sections": []
    },
    "kernelspec": {
      "name": "python3",
      "display_name": "Python 3"
    }
  },
  "cells": [
    {
      "cell_type": "markdown",
      "metadata": {
        "id": "8UBbbknqKp2q"
      },
      "source": [
        "[click on the link](https://drive.google.com/drive/folders/1BgY76fu_csR4LqzstlMXWOC80Rk7lRSE?usp=sharing) then create a shortcut"
      ]
    },
    {
      "cell_type": "code",
      "metadata": {
        "id": "5CVw7uI_ly1J"
      },
      "source": [
        "#@title ##**Install all the necessary libraries** { display-mode: \"form\" }\n",
        "\n",
        "from IPython.display import clear_output\n",
        "!pip install bing-image-downloader\n",
        "!pip install gTTS\n",
        "!pip install pydub\n",
        "!pip install Pillow\n",
        "!pip install python-resize-image\n",
        "!pip install kora\n",
        "!pip install gizeh\n",
        "!pip install spacy\n",
        "!python -m spacy download en_core_web_sm\n",
        "!pip install newspaper3k\n",
        "!pip install google\n",
        "!pip install rake-nltk\n",
        "clear_output()"
      ],
      "execution_count": null,
      "outputs": []
    },
    {
      "cell_type": "code",
      "metadata": {
        "id": "a6N5pTkJl03p"
      },
      "source": [
        "#@title ##**Access content from website using** { display-mode: \"form\" }\n",
        "\n",
        "import requests\n",
        "from bs4 import BeautifulSoup\n",
        "result=requests.get(\"https://gadgets.ndtv.com/android/news\")\n",
        "src=result.content\n",
        "soup=BeautifulSoup(src,\"lxml\")"
      ],
      "execution_count": null,
      "outputs": []
    },
    {
      "cell_type": "code",
      "metadata": {
        "id": "xvDKLPiZl3-A"
      },
      "source": [
        "#@title ##**Find news from gadget 360** { display-mode: \"form\" }\n",
        "\n",
        "img_source=[]\n",
        "descriptions = []\n",
        "titles=[]\n",
        "urls=[]\n",
        "for caption_box in soup.find_all(class_=\"caption_box\"):\n",
        "  a_tag= caption_box.find(\"a\")\n",
        "  urls.append(a_tag.attrs[\"href\"])\n",
        "for url in urls:\n",
        "  re=requests.get(url)\n",
        "  sr=re.content\n",
        "  soop=BeautifulSoup(sr,\"lxml\")\n",
        "  for h1_tag in soop.find_all(\"h1\"):\n",
        "    titles.append(h1_tag.text)\n",
        "  for des in soop.findAll(\"div\", {\"class\": \"content_text row description\"}):\n",
        "    descriptions.append(des.find('p').text)\n",
        "images=soup.find_all('img')\n",
        "for img in images:\n",
        "  if img.get('title') in titles:\n",
        "      if 'data-original' in img.attrs and 'src' in img.attrs:\n",
        "        img_source.append(img.get('data-original'))\n",
        "      else:\n",
        "        img_source.append(img[\"src\"])"
      ],
      "execution_count": null,
      "outputs": []
    },
    {
      "cell_type": "code",
      "metadata": {
        "id": "94cg4ZL01fGE"
      },
      "source": [
        "#@title ##**Find news the verge** { display-mode: \"form\" }\n",
        "\n",
        "result1=requests.get(\"https://www.theverge.com/tech\")\n",
        "src1=result1.content\n",
        "soup1=BeautifulSoup(src1,\"lxml\")\n",
        "urls1=[]\n",
        "titles1=[]\n",
        "store_u=[]\n",
        "for caption_box in soup1.find_all(class_=\"c-entry-box--compact__body\"):\n",
        "  a_tag= caption_box.find(\"a\")\n",
        "  store_u.append(a_tag)\n",
        "for url in store_u:\n",
        "  urls1.append(url.attrs[\"href\"])\n",
        "  titles1.append(url.text)  \n",
        "if 'https://www.theverge.com/circuitbreaker' in urls1:\n",
        "  urls1.remove('https://www.theverge.com/circuitbreaker')\n",
        "if '\\nCircuit Breaker\\n'in titles1:\n",
        "  titles1.remove('\\nCircuit Breaker\\n')  \n",
        "from newspaper import Article\n",
        "import nltk\n",
        "nltk.download('punkt')\n",
        "descriptions1=[]\n",
        "for i in urls1:\n",
        "  article = Article(i)\n",
        "  article.download()\n",
        "  article.parse()\n",
        "  article.nlp()\n",
        "  descriptions1.append(article.summary)\n",
        "titles.extend(titles1)  \n",
        "descriptions.extend(descriptions1)  \n",
        "clear_output()"
      ],
      "execution_count": null,
      "outputs": []
    },
    {
      "cell_type": "code",
      "metadata": {
        "id": "lYcebHcI2fhb"
      },
      "source": [
        "#@title ##**Find news from cnet.com** { display-mode: \"form\" }\n",
        "\n",
        "urls2=[]\n",
        "titles2=[]\n",
        "store_u2=[]\n",
        "u=\"https://www.cnet.com/news\"\n",
        "result2=requests.get(u)\n",
        "src2=result2.content\n",
        "soup2=BeautifulSoup(src2,\"lxml\")\n",
        "for caption_box in soup2.find_all(class_=\"col-5 assetText\"):\n",
        "  a_tag= caption_box.find(\"a\")\n",
        "  store_u2.append(a_tag)\n",
        "for url in store_u2:\n",
        "  urls2.append(\"https://www.cnet.com\"+url.attrs[\"href\"])\n",
        "  titles2.append(url.text.strip())    \n",
        "for i in range(2,4): \n",
        "  visit=u+str(i)\n",
        "  result2=requests.get(visit)\n",
        "  src2=result2.content\n",
        "  soup2=BeautifulSoup(src2,\"lxml\")\n",
        "  for caption_box in soup2.find_all(class_=\"col-5 assetText\"):\n",
        "    a_tag= caption_box.find(\"a\")\n",
        "    store_u2.append(a_tag)\n",
        "  for url in store_u2:\n",
        "    urls2.append(\"https://www.cnet.com\"+url.attrs[\"href\"])\n",
        "    titles2.append(url.text.strip())   \n",
        "descriptions2=[]\n",
        "for i in urls2:\n",
        "  article = Article(i)\n",
        "  article.download()\n",
        "  article.parse()\n",
        "  article.nlp()\n",
        "  descriptions2.append(article.summary)\n",
        "titles.extend(titles2)  \n",
        "descriptions.extend(descriptions2)\n",
        "\n",
        "backup_t=titles\n",
        "backup_d=descriptions"
      ],
      "execution_count": null,
      "outputs": []
    },
    {
      "cell_type": "code",
      "metadata": {
        "id": "AkcEFU8VMswh",
        "colab": {
          "base_uri": "https://localhost:8080/"
        },
        "outputId": "9ec76db7-7138-4294-c6f0-f755e74e6299"
      },
      "source": [
        "#@title ##**If same backuped else not** { display-mode: \"form\" }\n",
        "print(len(backup_t))\n",
        "print(len(backup_d))"
      ],
      "execution_count": null,
      "outputs": [
        {
          "output_type": "stream",
          "text": [
            "104\n",
            "104\n"
          ],
          "name": "stdout"
        }
      ]
    },
    {
      "cell_type": "code",
      "metadata": {
        "colab": {
          "base_uri": "https://localhost:8080/"
        },
        "id": "IObf0641JrHe",
        "outputId": "4835be9b-bb78-434d-f527-b9831bac48d7"
      },
      "source": [
        "#@title ##**store backup** { display-mode: \"form\" }\r\n",
        "%cd /content\r\n",
        "with open(\"title.txt\",\"w\") as f:\r\n",
        "  for i in titles:\r\n",
        "    i=\"#\"+i\r\n",
        "    # print(i)\r\n",
        "    f.write(i)\r\n",
        "\r\n",
        "\r\n",
        "with open(\"descriptions.txt\",\"w\") as f:\r\n",
        "  for i in descriptions:\r\n",
        "    i=\"#\"+i\r\n",
        "    # print(i)\r\n",
        "    f.write(i)\r\n"
      ],
      "execution_count": null,
      "outputs": [
        {
          "output_type": "stream",
          "text": [
            "/content\n"
          ],
          "name": "stdout"
        }
      ]
    },
    {
      "cell_type": "code",
      "metadata": {
        "colab": {
          "base_uri": "https://localhost:8080/"
        },
        "id": "GE8NQEnTOQTs",
        "outputId": "aa0c12e7-5fb7-4cd5-c86e-29b56a34d306"
      },
      "source": [
        "#@title ##**Read backup** { display-mode: \"form\" }\r\n",
        "\r\n",
        "# #emargency\r\n",
        "%cd /content\r\n",
        "with open(\"title.txt\",\"r\") as f:\r\n",
        "  titl_backup=f.readlines()    \r\n",
        "titl_backup=str(titl_backup).replace(\"[\",\"\").replace(\"]\",\"\").split(\"#\")  \r\n",
        "del titl_backup[0]\r\n",
        "with open(\"descriptions.txt\",\"r\") as f:\r\n",
        "  des_backup=f.readlines()    \r\n",
        "des_backup=str(des_backup).replace(\"[\",\"\").replace(\"]\",\"\").split(\"#\")  \r\n",
        "del des_backup[0]\r\n",
        "titles.clear()\r\n",
        "descriptions.clear()\r\n",
        "titles=titl_backup\r\n",
        "descriptions=des_backup"
      ],
      "execution_count": null,
      "outputs": [
        {
          "output_type": "stream",
          "text": [
            "/content\n"
          ],
          "name": "stdout"
        }
      ]
    },
    {
      "cell_type": "code",
      "metadata": {
        "colab": {
          "base_uri": "https://localhost:8080/"
        },
        "id": "o5YLENwhE963",
        "outputId": "50876481-fe23-42be-cb40-445e4870ecd9"
      },
      "source": [
        "#@title ##**remove special char** { display-mode: \"form\" }\r\n",
        "\r\n",
        "youtube_titles=titles\r\n",
        "titles_clean=[]\r\n",
        "for i in titles:\r\n",
        "  i=i.replace(\"/\",\"\").replace(\":\",\" \").replace(\"’\",\"\").replace(\",\",\"\")\r\n",
        "  titles_clean.append(i)\r\n",
        "titles=[]\r\n",
        "titles=titles_clean  \r\n",
        "print(len(titles))\r\n",
        "print(len(descriptions))"
      ],
      "execution_count": null,
      "outputs": [
        {
          "output_type": "stream",
          "text": [
            "104\n",
            "104\n"
          ],
          "name": "stdout"
        }
      ]
    },
    {
      "cell_type": "code",
      "metadata": {
        "id": "98W5jl-5l7ow"
      },
      "source": [
        "#@title ##**Mount google drive** { display-mode: \"form\" }\n",
        "\n",
        "from google.colab import drive\n",
        "drive.mount('/content/gdrive')\n",
        "%cd /content/gdrive/MyDrive/\n",
        "clear_output()"
      ],
      "execution_count": null,
      "outputs": []
    },
    {
      "cell_type": "code",
      "metadata": {
        "id": "Z8qiHpQ9l9iB"
      },
      "source": [
        "#@title ##**If any problem occur run this and then run next cells** { display-mode: \"form\" }\n",
        "\n",
        "# %cd /content/gdrive/MyDrive/\n",
        "# titles=backup_t\n",
        "# descriptions=backup_d"
      ],
      "execution_count": null,
      "outputs": []
    },
    {
      "cell_type": "code",
      "metadata": {
        "id": "vC1VGdUTxZO5",
        "colab": {
          "base_uri": "https://localhost:8080/"
        },
        "outputId": "c322f6f1-e9e8-40c7-9ba0-43aea802a7e2"
      },
      "source": [
        "#@title ##**Two value must be same** { display-mode: \"form\" }\n",
        "\n",
        "print(len(titles))\n",
        "print(len(descriptions))"
      ],
      "execution_count": null,
      "outputs": [
        {
          "output_type": "stream",
          "text": [
            "104\n",
            "104\n"
          ],
          "name": "stdout"
        }
      ]
    },
    {
      "cell_type": "code",
      "metadata": {
        "id": "gz05EuYzl_Qa"
      },
      "source": [
        "#@title ##**Remove Folder and Create folder** { display-mode: \"form\" }\n",
        "%cd /content/gdrive/My Drive/\n",
        "!rm -rf \"/content/gdrive/My Drive/news\"\n",
        "!mkdir news\n",
        "%cd /content/gdrive/My Drive/news\n",
        "!mkdir csv\n",
        "!mkdir audio\n",
        "!mkdir video\n",
        "!mkdir images\n",
        "!ls\n",
        "file_id=\"1i2Vju11AG9fgSI4NQIVBJmeCeG-fMNxR\"\n",
        "from kora import drive\n",
        "drive.download_folder(file_id)\n",
        "clear_output()\n"
      ],
      "execution_count": null,
      "outputs": []
    },
    {
      "cell_type": "code",
      "metadata": {
        "id": "PsAQLC2wUcb_"
      },
      "source": [
        "#@title ##**Removing duplicate data** { display-mode: \"form\" }\n",
        "\n",
        "dick={}\n",
        "for i in range(len(titles)):\n",
        "  dick[titles[i]]=descriptions[i]\n",
        "u_titles=[]\n",
        "u_descriptions=[]\n",
        "for i,j in dick.items():\n",
        "  u_titles.append(i)\n",
        "  u_descriptions.append(j)\n",
        "titles.clear()\n",
        "descriptions.clear()\n",
        "titles=u_titles\n",
        "descriptions=u_descriptions   "
      ],
      "execution_count": null,
      "outputs": []
    },
    {
      "cell_type": "code",
      "metadata": {
        "id": "oPdlE0bMXTID"
      },
      "source": [
        "#@title ##**Check if there any new news  or old news** { display-mode: \"form\" }\n",
        "import pandas as pd\n",
        "database=pd.read_csv('/content/gdrive/My Drive/youtube_last uploads/database.csv')\n",
        "new_titles=[]\n",
        "new_descriptions=[]\n",
        "for i in range(len(titles)):\n",
        "  if titles[i] not in database[\"title\"]:\n",
        "    new_titles.append(titles[i])\n",
        "    new_descriptions.append(descriptions[i])\n",
        "titles.clear()\n",
        "descriptions.clear()\n",
        "titles=new_titles\n",
        "descriptions=new_descriptions"
      ],
      "execution_count": null,
      "outputs": []
    },
    {
      "cell_type": "code",
      "metadata": {
        "id": "xkNtUNERxnnO",
        "colab": {
          "base_uri": "https://localhost:8080/"
        },
        "outputId": "361cf884-5555-4a82-a97e-27f163cccd7a"
      },
      "source": [
        "#@title ##**Two value must be same** { display-mode: \"form\" }\n",
        "\n",
        "print(len(titles))\n",
        "print(len(descriptions))"
      ],
      "execution_count": null,
      "outputs": [
        {
          "output_type": "stream",
          "text": [
            "73\n",
            "73\n"
          ],
          "name": "stdout"
        }
      ]
    },
    {
      "cell_type": "code",
      "metadata": {
        "id": "nKReSq5XXeK8"
      },
      "source": [
        "#@title ##**Only Store important news** { display-mode: \"form\" }\n",
        "clean_title=[]\n",
        "for i in titles:\n",
        "  word=\"\"\n",
        "  sentence  = i\n",
        "  tokenizer = nltk.RegexpTokenizer(r\"\\w+\")\n",
        "  new_words = tokenizer.tokenize(sentence)\n",
        "  for k in new_words:\n",
        "    word+=k+\" \"\n",
        "  clean_title.append(word.lower())\n",
        "my_tt=\"\"\n",
        "for i in clean_title:\n",
        "  i=i.lower()\n",
        "  i=i.replace(\",\",\"\")\n",
        "  my_tt+=i+\".\"\n",
        "import spacy\n",
        "from spacy.lang.en.stop_words import  STOP_WORDS\n",
        "from string import punctuation\n",
        "stopwards=list(STOP_WORDS)\n",
        "nlp=spacy.load(\"en_core_web_sm\")\n",
        "doc=nlp(my_tt)\n",
        "tokens=[token.text for token in doc]\n",
        "word_frequencies={}\n",
        "for word in doc:\n",
        "  if word.text.lower() not in stopwards:\n",
        "    if word.text.lower() not in punctuation:\n",
        "      if word.text not in word_frequencies.keys():\n",
        "        word_frequencies[word.text]=1\n",
        "      else:\n",
        "        word_frequencies[word.text]+=1\n",
        "max_frequency=max(word_frequencies.values())\n",
        "for word in word_frequencies.keys():\n",
        "  word_frequencies[word]= word_frequencies[word]/max_frequency\n",
        "sentence_tokens=clean_title\n",
        "sentence_scores={}\n",
        "for sent in sentence_tokens:\n",
        "  for word in sent:\n",
        "    if word.lower() in word_frequencies.keys():\n",
        "      if sent not in sentence_scores.keys():\n",
        "        sentence_scores[sent]=word_frequencies[word.lower()]\n",
        "      else:\n",
        "        sentence_scores[sent]+=word_frequencies[word.lower()]\n",
        "sentence_scores_clean = {}\n",
        "for key,value in sentence_scores.items():\n",
        "    if value not in sentence_scores_clean.values():\n",
        "        sentence_scores_clean[key] = value        \n",
        "from heapq import nlargest\n",
        "select_length=int(len(sentence_tokens)*0.3)                  \n",
        "summary=nlargest(select_length,sentence_scores_clean,key=sentence_scores_clean.get)\n",
        "\n",
        "important_titles=[]\n",
        "important_descriptions=[]\n",
        "for i in range(len(clean_title)):\n",
        "  if clean_title[i] in summary:\n",
        "    important_titles.append(titles[i])\n",
        "    important_descriptions.append(descriptions[i])\n",
        "titles.clear()\n",
        "descriptions.clear()    \n",
        "titles=important_titles\n",
        "descriptions=important_descriptions   "
      ],
      "execution_count": null,
      "outputs": []
    },
    {
      "cell_type": "code",
      "metadata": {
        "id": "GhAknQbIqKmw"
      },
      "source": [
        "#@title ##**Store the news as csv file** { display-mode: \"form\" }\n",
        "\n",
        "%cd /content/gdrive/My Drive/news/csv\n",
        "import csv\n",
        "with open('data.csv', 'w', newline='') as file:\n",
        "    writer = csv.writer(file)\n",
        "    writer.writerow([\"title\", \"description\"])\n",
        "    for k in range( len(titles)):\n",
        "      writer.writerow([ titles[k],descriptions[k] ])\n",
        "%cd /content/gdrive/My Drive/news   \n",
        "clear_output()   "
      ],
      "execution_count": null,
      "outputs": []
    },
    {
      "cell_type": "code",
      "metadata": {
        "id": "FWtrG7M0cHMw"
      },
      "source": [
        "# @title ##**Download Image** { display-mode: \"form\" }\n",
        "\n",
        "%cd /content/gdrive/My Drive/news/images\n",
        "try:\n",
        "  for i in glob.glob(\"*.jpg\"):\n",
        "    os.remove(i)\n",
        "except:\n",
        "  pass\n",
        "from bing_image_downloader import downloader\n",
        "store_rename_image=[]\n",
        "for head in titles:\n",
        "  query_string=head#[0:20]\n",
        "  downloader.download(query_string, limit=1,  output_dir='dataset', adult_filter_off=True, force_replace=False, timeout=60)\n",
        "for i in titles:\n",
        "  img_rename=\"/content/gdrive/My Drive/news/images/\"+i+\".jpg\"\n",
        "  store_rename_image.append(img_rename)\n",
        "clear_output()\n",
        "import glob\n",
        "download_images=[]\n",
        "sub=[]\n",
        "j=0\n",
        "for name in glob.glob('/content/gdrive/My Drive/news/images/dataset/*'):\n",
        "    sub_path=name+\"/*\"\n",
        "    for jpg_file in glob.glob(sub_path):\n",
        "      download_images.append(jpg_file)\n",
        "import os\n",
        "failed_image=[]\n",
        "failed_image_rename=[]\n",
        "for i in range(len(download_images)):\n",
        "  try:\n",
        "    os.rename(download_images[i],store_rename_image[i])\n",
        "  except  Exception as e:\n",
        "    print(e)\n",
        "  #   failed_image.append(download_images[i])\n",
        "  #   failed_image_rename.append(store_rename_image[i])\n",
        "  # print(store_rename_image[i])\n",
        "  # print(download_images[i]) \n",
        "!rm -rf \"/content/gdrive/My Drive/news/images/dataset\"    \n",
        "# clear_output()   "
      ],
      "execution_count": null,
      "outputs": []
    },
    {
      "cell_type": "code",
      "metadata": {
        "id": "LOm6PpnsdAT9"
      },
      "source": [
        "#@title ##**Remove the damage images and contants** { display-mode: \"form\" }\n",
        "\n",
        "from PIL import Image\n",
        "damage_file=[]\n",
        "img_dir = r\"/content/gdrive/My Drive/news/images/\"\n",
        "for filename in os.listdir(img_dir):\n",
        "  try:\n",
        "    with Image.open(img_dir + \"/\" + filename) as im:\n",
        "      # print('ok')\n",
        "      pass\n",
        "  except:\n",
        "    print(img_dir + \"/\" + filename)\n",
        "    damage_file.append(filename)\n",
        "    os.remove(img_dir + \"/\" + filename)\n",
        "    print(img_dir + \"/\" + filename)\n",
        "    damge_path=img_dir + \"/\" + filename\n",
        "damage_file_name=[]\n",
        "for i in damage_file:\n",
        "  temp=i.split(\".jpg\")\n",
        "  damage_file_name.append(temp[0])\n",
        "# print(damage_file_name)\n",
        "damage_descriptions=[]\n",
        "for i in damage_file_name:\n",
        "  damage_descriptions.append(data_store_dict[i])\n",
        "# print(damage_descriptions)\n",
        "for des in descriptions:\n",
        "  if des in damage_descriptions:\n",
        "    descriptions.remove(des)\n",
        "\n",
        "    "
      ],
      "execution_count": null,
      "outputs": []
    },
    {
      "cell_type": "code",
      "metadata": {
        "id": "RtzfVveCeJ2P"
      },
      "source": [
        "#@title ##**Resize Images if can't delete the file from title and description** { display-mode: \"form\" }\n",
        "need_to_remove=[]\n",
        "import cv2\n",
        "from PIL import Image, ImageDraw, ImageFilter\n",
        "image_folder = \"/content/gdrive/My Drive/news/images/\"\n",
        "images = [img for img in os.listdir(image_folder) if img.endswith(\".jpg\")]\n",
        "for i in range(len(images)):\n",
        "  frame = cv2.imread(os.path.join(image_folder, images[i]))\n",
        "  try:\n",
        "    height, width, layers = frame.shape\n",
        "    if height<=1000 and width<=1000:\n",
        "      im1 = Image.open('/content/gdrive/My Drive/news/youtube_news_scrap_tools/background.jpg')\n",
        "      im2 = Image.open(images[i])\n",
        "      back_im = im1.copy()\n",
        "      back_im.paste(im2, (630,200))\n",
        "      back_im.save(images[i], quality=100)\n",
        "  except:\n",
        "    need_to_remove.append(images[i])\n",
        "for i in need_to_remove:    \n",
        "  os.remove(i)    \n",
        "my_images=os.listdir()\n",
        "for i in my_images:\n",
        "  if i!=\".ipynb_checkpoints\" :\n",
        "    image = Image.open(i)\n",
        "    new_image =image.resize((1920,1080))\n",
        "    rgb_im = new_image.convert('RGB')\n",
        "    rgb_im.save(i)\n",
        "\n",
        "for i in need_to_remove:\n",
        "  temp_i=i.split(\".jpg\")[0]\n",
        "  tem_title=[k for k in titles]\n",
        "  if temp_i in tem_title:\n",
        "    del_index=tem_title.index(temp_i)\n",
        "    titles.pop(del_index)\n",
        "    descriptions.pop(del_index)    "
      ],
      "execution_count": null,
      "outputs": []
    },
    {
      "cell_type": "code",
      "metadata": {
        "id": "fqMoaKkub68C",
        "colab": {
          "base_uri": "https://localhost:8080/"
        },
        "outputId": "46501422-b124-41da-c932-82c1cc7202f8"
      },
      "source": [
        "#@title ##**Must be same** { display-mode: \"form\" }\n",
        "\n",
        "print(len(os.listdir(image_folder)))\n",
        "print(len(titles))\n",
        "print(len(descriptions))"
      ],
      "execution_count": null,
      "outputs": [
        {
          "output_type": "stream",
          "text": [
            "21\n",
            "21\n",
            "21\n"
          ],
          "name": "stdout"
        }
      ]
    },
    {
      "cell_type": "code",
      "metadata": {
        "id": "TLQ229Jj7h_E"
      },
      "source": [
        "#@title ##**Divided data 2 part** { display-mode: \"form\" }\n",
        "up_to=round(int(len(titles)/2))\n",
        "# up_to"
      ],
      "execution_count": null,
      "outputs": []
    },
    {
      "cell_type": "code",
      "metadata": {
        "id": "GDcXOkSqpgM3"
      },
      "source": [
        "# @title ##**Create audio** { display-mode: \"form\" }\n",
        "\n",
        "%cd /content/gdrive/My Drive/news/audio\n",
        "from gtts import gTTS #Import Google Text to Speech\n",
        "from IPython.display import Audio #Import Audio method from IPython's Display Class\n",
        "import glob\n",
        "from pydub import AudioSegment \n",
        "from pydub.playback import play \n",
        "import time\n",
        "def audio(story,f_name):\n",
        "  tts = gTTS(text=story,lang='en',) #Provide the string to convert to speech\n",
        "  save_file=f_name+\".wav\"\n",
        "  tts.save(save_file) #save the string converted to speech as a .wav file\n",
        "  sound_file = save_file\n",
        "  Audio(sound_file, autoplay=True) \n",
        "for s in range( len(titles)):\n",
        "  story=titles[s]+\" \"+descriptions[s]\n",
        "  f_name=titles[s]\n",
        "  audio(story,f_name)  \n",
        "\n",
        "store_audio_duration=[]\n",
        "store_path= os.listdir()\n",
        "store_full_path=[]\n",
        "for o in store_path:\n",
        "  store_full_path.append(\"/content/gdrive/My Drive/news/audio/\"+o)\n",
        "for j in store_full_path:\n",
        "  file_path=j\n",
        "  audio = AudioSegment.from_file(file_path)\n",
        "  store_audio_duration.append(audio.duration_seconds)  \n",
        "\n",
        "audio_path=\"/content/gdrive/My Drive/news/audio/*.wav\"\n",
        "audios=glob.glob(audio_path)\n",
        "wav_file_1 = AudioSegment.from_file(audios[0])  \n",
        "for g in range(1,up_to):\n",
        "   wav_file_2 = AudioSegment.from_file(audios[g]) \n",
        "   wav_file_1=wav_file_1+wav_file_2\n",
        "\n",
        "\n",
        "wav_file_1.export(out_f = \"wav_file_3.wav\",format = \"wav\") \n",
        "\n",
        "new_wav_file_1 = AudioSegment.from_file(audios[up_to])  \n",
        "for g in range(up_to+1,len(titles)):\n",
        "   new_wav_file_2 = AudioSegment.from_file(audios[g]) \n",
        "   new_wav_file_1=new_wav_file_1+new_wav_file_2\n",
        "\n",
        "\n",
        "new_wav_file_1.export(out_f = \"new_wav_file_3.wav\",format = \"wav\") \n",
        "clear_output()    "
      ],
      "execution_count": null,
      "outputs": []
    },
    {
      "cell_type": "code",
      "metadata": {
        "id": "-nfoAZ1Bcv_v",
        "colab": {
          "base_uri": "https://localhost:8080/"
        },
        "outputId": "412e2af4-52cf-4dab-c02b-be56fef1b502"
      },
      "source": [
        "#@title ##**Must be same** { display-mode: \"form\" }\n",
        "\n",
        "print(len(os.listdir(image_folder)))\n",
        "print(len(titles))\n",
        "print(len(descriptions))\n",
        "print(len(audios))"
      ],
      "execution_count": null,
      "outputs": [
        {
          "output_type": "stream",
          "text": [
            "21\n",
            "21\n",
            "21\n",
            "21\n"
          ],
          "name": "stdout"
        }
      ]
    },
    {
      "cell_type": "code",
      "metadata": {
        "id": "3EjsFkXdspNR"
      },
      "source": [
        "#@title ##**Create video 1** { display-mode: \"form\" }\n",
        "\n",
        "%cd /content/gdrive/My Drive/news/video\n",
        "image_folder = \"/content/gdrive/My Drive/news/images/\"\n",
        "video_name = 'video2.mp4'\n",
        "# each_image_duration = 5 # in secs\n",
        "fourcc = cv2.VideoWriter_fourcc(*'MP4V') # define the video codec\n",
        "images = [img for img in os.listdir(image_folder) if img.endswith(\".jpg\")]\n",
        "frame = cv2.imread(os.path.join(image_folder, images[0]))\n",
        "height, width, layers = frame.shape\n",
        "video = cv2.VideoWriter(video_name, fourcc, 1.0, (width, height))\n",
        "for im in range(up_to):\n",
        "  for i in range(round(store_audio_duration[im])):\n",
        "      video.write(cv2.imread(os.path.join(image_folder, images[im])))\n",
        "cv2.destroyAllWindows()\n",
        "video.release()\n",
        "clear_output() \n"
      ],
      "execution_count": null,
      "outputs": []
    },
    {
      "cell_type": "code",
      "metadata": {
        "id": "xhjo8xS5BBjl"
      },
      "source": [
        "#@title ##**Create video 2** { display-mode: \"form\" }\n",
        "video_name = 'new_video2.mp4'\n",
        "fourcc = cv2.VideoWriter_fourcc(*'MP4V') # define the video codec\n",
        "video = cv2.VideoWriter(video_name, fourcc, 1.0, (width, height))\n",
        "for im in range(up_to,len(titles)-1):\n",
        "  for i in range(round(store_audio_duration[im])):\n",
        "      video.write(cv2.imread(os.path.join(image_folder, images[im])))\n",
        "cv2.destroyAllWindows()\n",
        "video.release()\n",
        "clear_output() \n"
      ],
      "execution_count": null,
      "outputs": []
    },
    {
      "cell_type": "code",
      "metadata": {
        "id": "Dad-3xDH23pE"
      },
      "source": [
        "#@title ##**Count News number** { display-mode: \"form\" }\n",
        "\n",
        "f1 = open('/content/gdrive/My Drive/youtube_last uploads/title_count1.csv', \"r\")\n",
        "last_line =f1.readlines()[-1]\n",
        "f1.close()\n",
        "news_count=int(last_line[0])\n",
        "news_count+=1\n",
        "# news_count\n"
      ],
      "execution_count": null,
      "outputs": []
    },
    {
      "cell_type": "code",
      "metadata": {
        "id": "1A3O2_Acxtba"
      },
      "source": [
        "#@title ##**Create Intro 1 video** { display-mode: \"form\" }\n",
        "\n",
        "import numpy as np\n",
        "import cv2\n",
        "\n",
        "image = cv2.imread('/content/gdrive/My Drive/news/youtube_news_scrap_tools/intro.png',cv2.IMREAD_UNCHANGED)\n",
        "\n",
        "position = ((int) (image.shape[1]/2 - 1000/2), (int) (image.shape[0]/2 - 36/2))\n",
        "# position=(620,500)\n",
        "title=\"Tech News Episode \" +str(news_count)\n",
        "cv2.putText(\n",
        "     image, #numpy array on which text is written\n",
        "     title, #text\n",
        "     position, #position at which writing has to start\n",
        "     cv2.FONT_HERSHEY_TRIPLEX, #font family\n",
        "    3, #font size 209, 80, 0, 255  \n",
        "     (0, 0, 0, 1), #font color\n",
        "    4) #font stroke\n",
        "cv2.imwrite('output.png', image)\n",
        "!cp output.png thumb1.jpg\n",
        "# !mv /content/gdrive/My Drive/news/video/thumb1.png  /content/gdrive/My Drive/youtube_last uploads/\n",
        "image_folder = \"/content/gdrive/My Drive/news/video/\"\n",
        "video_name = 'video1.mp4'\n",
        "each_image_duration =8 # in secs\n",
        "fourcc = cv2.VideoWriter_fourcc(*'MP4V') # define the video codec\n",
        "images = [img for img in os.listdir(image_folder) if img.endswith(\".png\")]\n",
        "frame = cv2.imread(os.path.join(image_folder, images[0]))\n",
        "height, width, layers = frame.shape\n",
        "video = cv2.VideoWriter(video_name, fourcc, 1.0, (width, height))\n",
        "for im in range(len(images)):\n",
        "  for i in range(each_image_duration):\n",
        "      video.write(cv2.imread(os.path.join(image_folder, images[im])))\n",
        "cv2.destroyAllWindows()\n",
        "video.release()\n",
        "clear_output() "
      ],
      "execution_count": null,
      "outputs": []
    },
    {
      "cell_type": "code",
      "metadata": {
        "id": "MyCcHLumE2La"
      },
      "source": [
        "#@title ##**Create Intro 2 video** { display-mode: \"form\" }\n",
        "\n",
        "image = cv2.imread('/content/gdrive/My Drive/news/youtube_news_scrap_tools/intro.png',cv2.IMREAD_UNCHANGED)\n",
        "\n",
        "position = ((int) (image.shape[1]/2 - 1000/2), (int) (image.shape[0]/2 - 36/2))\n",
        "# position=(620,500)\n",
        "title=\"Tech News Episode \" +str(news_count+1)\n",
        "cv2.putText(\n",
        "     image, #numpy array on which text is written\n",
        "     title, #text\n",
        "     position, #position at which writing has to start\n",
        "     cv2.FONT_HERSHEY_TRIPLEX, #font family\n",
        "    3, #font size 209, 80, 0, 255  \n",
        "     (0, 0, 0, 1), #font color\n",
        "    4) #font stroke\n",
        "cv2.imwrite('output.png', image)\n",
        "!cp output.png thumb2.jpg\n",
        "image_folder = \"/content/gdrive/My Drive/news/video/\"\n",
        "video_name = 'new_video1.mp4'\n",
        "each_image_duration =8 # in secs\n",
        "fourcc = cv2.VideoWriter_fourcc(*'MP4V') # define the video codec\n",
        "images = [img for img in os.listdir(image_folder) if img.endswith(\".png\")]\n",
        "frame = cv2.imread(os.path.join(image_folder, images[0]))\n",
        "height, width, layers = frame.shape\n",
        "video = cv2.VideoWriter(video_name, fourcc, 1.0, (width, height))\n",
        "for im in range(len(images)):\n",
        "  for i in range(each_image_duration):\n",
        "      video.write(cv2.imread(os.path.join(image_folder, images[im])))\n",
        "cv2.destroyAllWindows()\n",
        "video.release()\n",
        "clear_output() "
      ],
      "execution_count": null,
      "outputs": []
    },
    {
      "cell_type": "code",
      "metadata": {
        "id": "ojeWBwzdukUH"
      },
      "source": [
        "#@title ##**add audio in intro1** { display-mode: \"form\" }\n",
        "\n",
        "from moviepy.editor import *\n",
        "videoclip = VideoFileClip(\"/content/gdrive/My Drive/news/video/video1.mp4\")\n",
        "audioclip = AudioFileClip(\"/content/gdrive/My Drive/news/youtube_news_scrap_tools/intro_audio.mp3\")\n",
        "\n",
        "new_audioclip = CompositeAudioClip([audioclip])\n",
        "videoclip.audio = new_audioclip\n",
        "videoclip.write_videofile(\"intro.mp4\")\n",
        "clear_output() "
      ],
      "execution_count": null,
      "outputs": []
    },
    {
      "cell_type": "code",
      "metadata": {
        "id": "lhFryPBnFZTm"
      },
      "source": [
        "#@title ##**add audio in intro2** { display-mode: \"form\" }\n",
        "\n",
        "from moviepy.editor import *\n",
        "videoclip = VideoFileClip(\"/content/gdrive/My Drive/news/video/new_video1.mp4\")\n",
        "audioclip = AudioFileClip(\"/content/gdrive/My Drive/news/youtube_news_scrap_tools/intro_audio.mp3\")\n",
        "\n",
        "new_audioclip = CompositeAudioClip([audioclip])\n",
        "videoclip.audio = new_audioclip\n",
        "videoclip.write_videofile(\"new_intro.mp4\")\n",
        "clear_output() "
      ],
      "execution_count": null,
      "outputs": []
    },
    {
      "cell_type": "code",
      "metadata": {
        "id": "IWJdSJcLtLbe"
      },
      "source": [
        "#@title ##**overlay music on news audio video1** { display-mode: \"form\" }\n",
        "\n",
        "from pydub import AudioSegment\n",
        "\n",
        "sound1 = AudioSegment.from_file(\"/content/gdrive/My Drive/news/audio/wav_file_3.wav\")\n",
        "sound2 = AudioSegment.from_file(\"/content/gdrive/My Drive/news/youtube_news_scrap_tools/youtube_music.mp3\")\n",
        "\n",
        "combined = sound1.overlay(sound2)\n",
        "\n",
        "combined.export(\"/content/gdrive/My Drive/news/audio/final.wav\", format='wav')\n",
        "clear_output() "
      ],
      "execution_count": null,
      "outputs": []
    },
    {
      "cell_type": "code",
      "metadata": {
        "id": "gD0PQKO8F1hy"
      },
      "source": [
        "#@title ##**overlay music on news audio video2** { display-mode: \"form\" }\n",
        "\n",
        "from pydub import AudioSegment\n",
        "\n",
        "sound1 = AudioSegment.from_file(\"/content/gdrive/My Drive/news/audio/new_wav_file_3.wav\")\n",
        "sound2 = AudioSegment.from_file(\"/content/gdrive/My Drive/news/youtube_news_scrap_tools/youtube_music.mp3\")\n",
        "\n",
        "combined = sound1.overlay(sound2)\n",
        "\n",
        "combined.export(\"/content/gdrive/My Drive/news/audio/new_final.wav\", format='wav')\n",
        "clear_output() "
      ],
      "execution_count": null,
      "outputs": []
    },
    {
      "cell_type": "code",
      "metadata": {
        "id": "--TV-1Yk7qBC"
      },
      "source": [
        "#@title ##**add main audio to the video1** { display-mode: \"form\" }\n",
        "\n",
        "from moviepy.editor import *\n",
        "videoclip = VideoFileClip(\"/content/gdrive/My Drive/news/video/video2.mp4\")\n",
        "audioclip = AudioFileClip(\"/content/gdrive/My Drive/news/audio/final.wav\")\n",
        "\n",
        "new_audioclip = CompositeAudioClip([audioclip])\n",
        "videoclip.audio = new_audioclip\n",
        "videoclip.write_videofile(\"main.mp4\")\n",
        "clear_output() "
      ],
      "execution_count": null,
      "outputs": []
    },
    {
      "cell_type": "code",
      "metadata": {
        "id": "NhCKH-J9GVxX"
      },
      "source": [
        "#@title ##**add main audio to the video2** { display-mode: \"form\" }\n",
        "\n",
        "from moviepy.editor import *\n",
        "videoclip = VideoFileClip(\"/content/gdrive/My Drive/news/video/new_video2.mp4\")\n",
        "audioclip = AudioFileClip(\"/content/gdrive/My Drive/news/audio/new_final.wav\")\n",
        "\n",
        "new_audioclip = CompositeAudioClip([audioclip])\n",
        "videoclip.audio = new_audioclip\n",
        "videoclip.write_videofile(\"new_main.mp4\")\n",
        "clear_output() "
      ],
      "execution_count": null,
      "outputs": []
    },
    {
      "cell_type": "code",
      "metadata": {
        "id": "Jb21GO39_9Pm"
      },
      "source": [
        "#@title ##**Make a .txt file which store all videos path** { display-mode: \"form\" }\n",
        "!mv \"/content/gdrive/My Drive/news/youtube_news_scrap_tools/outro_new.mp4\" \"/content/gdrive/My Drive/news/video/outro.mp4\"\n",
        "with open(\"list.txt\",\"w\") as f:\n",
        "    f.write(\"file '/content/gdrive/My Drive/news/video/intro1.mp4'\\nfile '/content/gdrive/My Drive/news/video/main1.mp4'\\nfile '/content/gdrive/My Drive/news/video/outro.mp4'\")\n",
        "\n",
        "with open(\"new_list.txt\",\"w\") as f:\n",
        "    f.write(\"file '/content/gdrive/My Drive/news/video/new_intro1.mp4'\\nfile '/content/gdrive/My Drive/news/video/new_main1.mp4'\\nfile '/content/gdrive/My Drive/news/video/outro.mp4'\")\n"
      ],
      "execution_count": null,
      "outputs": []
    },
    {
      "cell_type": "code",
      "metadata": {
        "id": "wyawlZOxW2yy",
        "colab": {
          "base_uri": "https://localhost:8080/"
        },
        "outputId": "8e182be7-8c83-4d5c-d954-739643133eb9"
      },
      "source": [
        "#@title ##**Resize intro video1** { display-mode: \"form\" }\n",
        "\n",
        "%%bash\n",
        "ffmpeg -i intro.mp4 -vf scale=1920:1080 intro1.mp4"
      ],
      "execution_count": null,
      "outputs": [
        {
          "output_type": "stream",
          "text": [
            "ffmpeg version 3.4.8-0ubuntu0.2 Copyright (c) 2000-2020 the FFmpeg developers\n",
            "  built with gcc 7 (Ubuntu 7.5.0-3ubuntu1~18.04)\n",
            "  configuration: --prefix=/usr --extra-version=0ubuntu0.2 --toolchain=hardened --libdir=/usr/lib/x86_64-linux-gnu --incdir=/usr/include/x86_64-linux-gnu --enable-gpl --disable-stripping --enable-avresample --enable-avisynth --enable-gnutls --enable-ladspa --enable-libass --enable-libbluray --enable-libbs2b --enable-libcaca --enable-libcdio --enable-libflite --enable-libfontconfig --enable-libfreetype --enable-libfribidi --enable-libgme --enable-libgsm --enable-libmp3lame --enable-libmysofa --enable-libopenjpeg --enable-libopenmpt --enable-libopus --enable-libpulse --enable-librubberband --enable-librsvg --enable-libshine --enable-libsnappy --enable-libsoxr --enable-libspeex --enable-libssh --enable-libtheora --enable-libtwolame --enable-libvorbis --enable-libvpx --enable-libwavpack --enable-libwebp --enable-libx265 --enable-libxml2 --enable-libxvid --enable-libzmq --enable-libzvbi --enable-omx --enable-openal --enable-opengl --enable-sdl2 --enable-libdc1394 --enable-libdrm --enable-libiec61883 --enable-chromaprint --enable-frei0r --enable-libopencv --enable-libx264 --enable-shared\n",
            "  libavutil      55. 78.100 / 55. 78.100\n",
            "  libavcodec     57.107.100 / 57.107.100\n",
            "  libavformat    57. 83.100 / 57. 83.100\n",
            "  libavdevice    57. 10.100 / 57. 10.100\n",
            "  libavfilter     6.107.100 /  6.107.100\n",
            "  libavresample   3.  7.  0 /  3.  7.  0\n",
            "  libswscale      4.  8.100 /  4.  8.100\n",
            "  libswresample   2.  9.100 /  2.  9.100\n",
            "  libpostproc    54.  7.100 / 54.  7.100\n",
            "Input #0, mov,mp4,m4a,3gp,3g2,mj2, from 'intro.mp4':\n",
            "  Metadata:\n",
            "    major_brand     : isom\n",
            "    minor_version   : 512\n",
            "    compatible_brands: isomiso2avc1mp41\n",
            "    encoder         : Lavf57.72.101\n",
            "  Duration: 00:00:08.36, start: 0.000000, bitrate: 185 kb/s\n",
            "    Stream #0:0(und): Video: h264 (High) (avc1 / 0x31637661), yuv420p, 2560x1440, 57 kb/s, 1 fps, 1 tbr, 16384 tbn, 2 tbc (default)\n",
            "    Metadata:\n",
            "      handler_name    : VideoHandler\n",
            "    Stream #0:1(und): Audio: mp3 (mp4a / 0x6134706D), 44100 Hz, stereo, s16p, 127 kb/s (default)\n",
            "    Metadata:\n",
            "      handler_name    : SoundHandler\n",
            "Stream mapping:\n",
            "  Stream #0:0 -> #0:0 (h264 (native) -> h264 (libx264))\n",
            "  Stream #0:1 -> #0:1 (mp3 (native) -> aac (native))\n",
            "Press [q] to stop, [?] for help\n",
            "[libx264 @ 0x55e3188fc800] using cpu capabilities: MMX2 SSE2Fast SSSE3 SSE4.2 AVX FMA3 BMI2 AVX2\n",
            "[libx264 @ 0x55e3188fc800] profile High, level 4.0\n",
            "[libx264 @ 0x55e3188fc800] 264 - core 152 r2854 e9a5903 - H.264/MPEG-4 AVC codec - Copyleft 2003-2017 - http://www.videolan.org/x264.html - options: cabac=1 ref=3 deblock=1:0:0 analyse=0x3:0x113 me=hex subme=7 psy=1 psy_rd=1.00:0.00 mixed_ref=1 me_range=16 chroma_me=1 trellis=1 8x8dct=1 cqm=0 deadzone=21,11 fast_pskip=1 chroma_qp_offset=-2 threads=3 lookahead_threads=1 sliced_threads=0 nr=0 decimate=1 interlaced=0 bluray_compat=0 constrained_intra=0 bframes=3 b_pyramid=2 b_adapt=1 b_bias=0 direct=1 weightb=1 open_gop=0 weightp=2 keyint=250 keyint_min=1 scenecut=40 intra_refresh=0 rc_lookahead=40 rc=crf mbtree=1 crf=23.0 qcomp=0.60 qpmin=0 qpmax=69 qpstep=4 ip_ratio=1.40 aq=1:1.00\n",
            "Output #0, mp4, to 'intro1.mp4':\n",
            "  Metadata:\n",
            "    major_brand     : isom\n",
            "    minor_version   : 512\n",
            "    compatible_brands: isomiso2avc1mp41\n",
            "    encoder         : Lavf57.83.100\n",
            "    Stream #0:0(und): Video: h264 (libx264) (avc1 / 0x31637661), yuv420p, 1920x1080, q=-1--1, 1 fps, 16384 tbn, 1 tbc (default)\n",
            "    Metadata:\n",
            "      handler_name    : VideoHandler\n",
            "      encoder         : Lavc57.107.100 libx264\n",
            "    Side data:\n",
            "      cpb: bitrate max/min/avg: 0/0/0 buffer size: 0 vbv_delay: -1\n",
            "    Stream #0:1(und): Audio: aac (LC) (mp4a / 0x6134706D), 44100 Hz, stereo, fltp, 128 kb/s (default)\n",
            "    Metadata:\n",
            "      handler_name    : SoundHandler\n",
            "      encoder         : Lavc57.107.100 aac\n",
            "frame=    4 fps=0.0 q=0.0 size=       0kB time=00:00:04.99 bitrate=   0.0kbits/s speed= 9.9x    \rframe=    8 fps=0.0 q=-1.0 Lsize=     168kB time=00:00:08.33 bitrate= 165.0kbits/s speed=8.51x    \n",
            "video:35kB audio:130kB subtitle:0kB other streams:0kB global headers:0kB muxing overhead: 1.781771%\n",
            "[libx264 @ 0x55e3188fc800] frame I:1     Avg QP: 1.35  size: 19344\n",
            "[libx264 @ 0x55e3188fc800] frame P:2     Avg QP: 5.77  size:  1823\n",
            "[libx264 @ 0x55e3188fc800] frame B:5     Avg QP: 3.82  size:  2332\n",
            "[libx264 @ 0x55e3188fc800] consecutive B-frames: 12.5%  0.0% 37.5% 50.0%\n",
            "[libx264 @ 0x55e3188fc800] mb I  I16..4: 96.4%  0.1%  3.5%\n",
            "[libx264 @ 0x55e3188fc800] mb P  I16..4:  3.8%  0.0%  0.0%  P16..4:  1.6%  0.1%  0.0%  0.0%  0.0%    skip:94.4%\n",
            "[libx264 @ 0x55e3188fc800] mb B  I16..4:  0.0%  0.0%  0.0%  B16..8:  1.0%  0.0%  0.0%  direct:36.6%  skip:62.4%  L0:12.4% L1:87.5% BI: 0.1%\n",
            "[libx264 @ 0x55e3188fc800] 8x8 transform intra:0.1% inter:39.8%\n",
            "[libx264 @ 0x55e3188fc800] coded y,uvDC,uvAC intra: 2.5% 3.1% 2.4% inter: 0.2% 26.8% 0.4%\n",
            "[libx264 @ 0x55e3188fc800] i16 v,h,dc,p: 97%  0%  3%  0%\n",
            "[libx264 @ 0x55e3188fc800] i8 v,h,dc,ddl,ddr,vr,hd,vl,hu: 17% 21% 60%  0%  2%  0%  0%  0%  0%\n",
            "[libx264 @ 0x55e3188fc800] i4 v,h,dc,ddl,ddr,vr,hd,vl,hu: 33% 20% 21%  4%  5%  5%  5%  4%  4%\n",
            "[libx264 @ 0x55e3188fc800] i8c dc,h,v,p: 93%  5%  1%  0%\n",
            "[libx264 @ 0x55e3188fc800] Weighted P-Frames: Y:50.0% UV:50.0%\n",
            "[libx264 @ 0x55e3188fc800] ref P L0: 99.3%  0.0%  0.7%\n",
            "[libx264 @ 0x55e3188fc800] ref B L0: 60.2% 39.8%\n",
            "[libx264 @ 0x55e3188fc800] ref B L1: 98.6%  1.4%\n",
            "[libx264 @ 0x55e3188fc800] kb/s:34.65\n",
            "[aac @ 0x55e3188fd700] Qavg: 267.315\n"
          ],
          "name": "stderr"
        }
      ]
    },
    {
      "cell_type": "code",
      "metadata": {
        "id": "_dLeLiGCHCgX",
        "colab": {
          "base_uri": "https://localhost:8080/"
        },
        "outputId": "ff20559a-3e30-4634-bda0-dda680fe9aaf"
      },
      "source": [
        "#@title ##**Resize intro video2** { display-mode: \"form\" }\n",
        "\n",
        "%%bash\n",
        "ffmpeg -i new_intro.mp4 -vf scale=1920:1080 new_intro1.mp4"
      ],
      "execution_count": null,
      "outputs": [
        {
          "output_type": "stream",
          "text": [
            "ffmpeg version 3.4.8-0ubuntu0.2 Copyright (c) 2000-2020 the FFmpeg developers\n",
            "  built with gcc 7 (Ubuntu 7.5.0-3ubuntu1~18.04)\n",
            "  configuration: --prefix=/usr --extra-version=0ubuntu0.2 --toolchain=hardened --libdir=/usr/lib/x86_64-linux-gnu --incdir=/usr/include/x86_64-linux-gnu --enable-gpl --disable-stripping --enable-avresample --enable-avisynth --enable-gnutls --enable-ladspa --enable-libass --enable-libbluray --enable-libbs2b --enable-libcaca --enable-libcdio --enable-libflite --enable-libfontconfig --enable-libfreetype --enable-libfribidi --enable-libgme --enable-libgsm --enable-libmp3lame --enable-libmysofa --enable-libopenjpeg --enable-libopenmpt --enable-libopus --enable-libpulse --enable-librubberband --enable-librsvg --enable-libshine --enable-libsnappy --enable-libsoxr --enable-libspeex --enable-libssh --enable-libtheora --enable-libtwolame --enable-libvorbis --enable-libvpx --enable-libwavpack --enable-libwebp --enable-libx265 --enable-libxml2 --enable-libxvid --enable-libzmq --enable-libzvbi --enable-omx --enable-openal --enable-opengl --enable-sdl2 --enable-libdc1394 --enable-libdrm --enable-libiec61883 --enable-chromaprint --enable-frei0r --enable-libopencv --enable-libx264 --enable-shared\n",
            "  libavutil      55. 78.100 / 55. 78.100\n",
            "  libavcodec     57.107.100 / 57.107.100\n",
            "  libavformat    57. 83.100 / 57. 83.100\n",
            "  libavdevice    57. 10.100 / 57. 10.100\n",
            "  libavfilter     6.107.100 /  6.107.100\n",
            "  libavresample   3.  7.  0 /  3.  7.  0\n",
            "  libswscale      4.  8.100 /  4.  8.100\n",
            "  libswresample   2.  9.100 /  2.  9.100\n",
            "  libpostproc    54.  7.100 / 54.  7.100\n",
            "Input #0, mov,mp4,m4a,3gp,3g2,mj2, from 'new_intro.mp4':\n",
            "  Metadata:\n",
            "    major_brand     : isom\n",
            "    minor_version   : 512\n",
            "    compatible_brands: isomiso2avc1mp41\n",
            "    encoder         : Lavf57.72.101\n",
            "  Duration: 00:00:08.36, start: 0.000000, bitrate: 185 kb/s\n",
            "    Stream #0:0(und): Video: h264 (High) (avc1 / 0x31637661), yuv420p, 2560x1440, 57 kb/s, 1 fps, 1 tbr, 16384 tbn, 2 tbc (default)\n",
            "    Metadata:\n",
            "      handler_name    : VideoHandler\n",
            "    Stream #0:1(und): Audio: mp3 (mp4a / 0x6134706D), 44100 Hz, stereo, s16p, 127 kb/s (default)\n",
            "    Metadata:\n",
            "      handler_name    : SoundHandler\n",
            "Stream mapping:\n",
            "  Stream #0:0 -> #0:0 (h264 (native) -> h264 (libx264))\n",
            "  Stream #0:1 -> #0:1 (mp3 (native) -> aac (native))\n",
            "Press [q] to stop, [?] for help\n",
            "[libx264 @ 0x55948678c800] using cpu capabilities: MMX2 SSE2Fast SSSE3 SSE4.2 AVX FMA3 BMI2 AVX2\n",
            "[libx264 @ 0x55948678c800] profile High, level 4.0\n",
            "[libx264 @ 0x55948678c800] 264 - core 152 r2854 e9a5903 - H.264/MPEG-4 AVC codec - Copyleft 2003-2017 - http://www.videolan.org/x264.html - options: cabac=1 ref=3 deblock=1:0:0 analyse=0x3:0x113 me=hex subme=7 psy=1 psy_rd=1.00:0.00 mixed_ref=1 me_range=16 chroma_me=1 trellis=1 8x8dct=1 cqm=0 deadzone=21,11 fast_pskip=1 chroma_qp_offset=-2 threads=3 lookahead_threads=1 sliced_threads=0 nr=0 decimate=1 interlaced=0 bluray_compat=0 constrained_intra=0 bframes=3 b_pyramid=2 b_adapt=1 b_bias=0 direct=1 weightb=1 open_gop=0 weightp=2 keyint=250 keyint_min=1 scenecut=40 intra_refresh=0 rc_lookahead=40 rc=crf mbtree=1 crf=23.0 qcomp=0.60 qpmin=0 qpmax=69 qpstep=4 ip_ratio=1.40 aq=1:1.00\n",
            "Output #0, mp4, to 'new_intro1.mp4':\n",
            "  Metadata:\n",
            "    major_brand     : isom\n",
            "    minor_version   : 512\n",
            "    compatible_brands: isomiso2avc1mp41\n",
            "    encoder         : Lavf57.83.100\n",
            "    Stream #0:0(und): Video: h264 (libx264) (avc1 / 0x31637661), yuv420p, 1920x1080, q=-1--1, 1 fps, 16384 tbn, 1 tbc (default)\n",
            "    Metadata:\n",
            "      handler_name    : VideoHandler\n",
            "      encoder         : Lavc57.107.100 libx264\n",
            "    Side data:\n",
            "      cpb: bitrate max/min/avg: 0/0/0 buffer size: 0 vbv_delay: -1\n",
            "    Stream #0:1(und): Audio: aac (LC) (mp4a / 0x6134706D), 44100 Hz, stereo, fltp, 128 kb/s (default)\n",
            "    Metadata:\n",
            "      handler_name    : SoundHandler\n",
            "      encoder         : Lavc57.107.100 aac\n",
            "frame=    4 fps=0.0 q=0.0 size=       0kB time=00:00:05.31 bitrate=   0.0kbits/s speed=10.6x    \rframe=    8 fps=0.0 q=-1.0 Lsize=     168kB time=00:00:08.33 bitrate= 165.3kbits/s speed=8.77x    \n",
            "video:35kB audio:130kB subtitle:0kB other streams:0kB global headers:0kB muxing overhead: 1.778224%\n",
            "[libx264 @ 0x55948678c800] frame I:1     Avg QP: 1.38  size: 19619\n",
            "[libx264 @ 0x55948678c800] frame P:2     Avg QP: 6.62  size:  1910\n",
            "[libx264 @ 0x55948678c800] frame B:5     Avg QP: 3.55  size:  2309\n",
            "[libx264 @ 0x55948678c800] consecutive B-frames: 12.5%  0.0% 37.5% 50.0%\n",
            "[libx264 @ 0x55948678c800] mb I  I16..4: 96.3%  0.0%  3.7%\n",
            "[libx264 @ 0x55948678c800] mb P  I16..4:  3.8%  0.0%  0.0%  P16..4:  1.7%  0.1%  0.0%  0.0%  0.0%    skip:94.3%\n",
            "[libx264 @ 0x55948678c800] mb B  I16..4:  0.0%  0.0%  0.0%  B16..8:  0.9%  0.0%  0.0%  direct:36.6%  skip:62.5%  L0: 4.2% L1:95.6% BI: 0.1%\n",
            "[libx264 @ 0x55948678c800] 8x8 transform intra:0.1% inter:42.8%\n",
            "[libx264 @ 0x55948678c800] coded y,uvDC,uvAC intra: 2.5% 3.2% 2.6% inter: 0.3% 26.7% 0.3%\n",
            "[libx264 @ 0x55948678c800] i16 v,h,dc,p: 97%  0%  3%  0%\n",
            "[libx264 @ 0x55948678c800] i8 v,h,dc,ddl,ddr,vr,hd,vl,hu: 18% 22% 58%  0%  0%  0%  0%  0%  2%\n",
            "[libx264 @ 0x55948678c800] i4 v,h,dc,ddl,ddr,vr,hd,vl,hu: 35% 19% 21%  4%  4%  5%  5%  4%  4%\n",
            "[libx264 @ 0x55948678c800] i8c dc,h,v,p: 93%  6%  1%  0%\n",
            "[libx264 @ 0x55948678c800] Weighted P-Frames: Y:50.0% UV:50.0%\n",
            "[libx264 @ 0x55948678c800] ref P L0: 99.7%  0.0%  0.3%\n",
            "[libx264 @ 0x55948678c800] ref B L0: 21.2% 78.8%\n",
            "[libx264 @ 0x55948678c800] ref B L1: 97.5%  2.5%\n",
            "[libx264 @ 0x55948678c800] kb/s:34.99\n",
            "[aac @ 0x55948678d700] Qavg: 267.315\n"
          ],
          "name": "stderr"
        }
      ]
    },
    {
      "cell_type": "code",
      "metadata": {
        "id": "EC_BiVXodfAG",
        "colab": {
          "base_uri": "https://localhost:8080/"
        },
        "outputId": "2b2dbe31-05f1-4f08-dd0a-5c8fa92f6dee"
      },
      "source": [
        "#@title ##**Resize main1 video** { display-mode: \"form\" }\n",
        "\n",
        "%%bash\n",
        "ffmpeg -i main.mp4 -vf scale=1920:1080 main1.mp4"
      ],
      "execution_count": null,
      "outputs": [
        {
          "output_type": "stream",
          "text": [
            "ffmpeg version 3.4.8-0ubuntu0.2 Copyright (c) 2000-2020 the FFmpeg developers\n",
            "  built with gcc 7 (Ubuntu 7.5.0-3ubuntu1~18.04)\n",
            "  configuration: --prefix=/usr --extra-version=0ubuntu0.2 --toolchain=hardened --libdir=/usr/lib/x86_64-linux-gnu --incdir=/usr/include/x86_64-linux-gnu --enable-gpl --disable-stripping --enable-avresample --enable-avisynth --enable-gnutls --enable-ladspa --enable-libass --enable-libbluray --enable-libbs2b --enable-libcaca --enable-libcdio --enable-libflite --enable-libfontconfig --enable-libfreetype --enable-libfribidi --enable-libgme --enable-libgsm --enable-libmp3lame --enable-libmysofa --enable-libopenjpeg --enable-libopenmpt --enable-libopus --enable-libpulse --enable-librubberband --enable-librsvg --enable-libshine --enable-libsnappy --enable-libsoxr --enable-libspeex --enable-libssh --enable-libtheora --enable-libtwolame --enable-libvorbis --enable-libvpx --enable-libwavpack --enable-libwebp --enable-libx265 --enable-libxml2 --enable-libxvid --enable-libzmq --enable-libzvbi --enable-omx --enable-openal --enable-opengl --enable-sdl2 --enable-libdc1394 --enable-libdrm --enable-libiec61883 --enable-chromaprint --enable-frei0r --enable-libopencv --enable-libx264 --enable-shared\n",
            "  libavutil      55. 78.100 / 55. 78.100\n",
            "  libavcodec     57.107.100 / 57.107.100\n",
            "  libavformat    57. 83.100 / 57. 83.100\n",
            "  libavdevice    57. 10.100 / 57. 10.100\n",
            "  libavfilter     6.107.100 /  6.107.100\n",
            "  libavresample   3.  7.  0 /  3.  7.  0\n",
            "  libswscale      4.  8.100 /  4.  8.100\n",
            "  libswresample   2.  9.100 /  2.  9.100\n",
            "  libpostproc    54.  7.100 / 54.  7.100\n",
            "Input #0, mov,mp4,m4a,3gp,3g2,mj2, from 'main.mp4':\n",
            "  Metadata:\n",
            "    major_brand     : isom\n",
            "    minor_version   : 512\n",
            "    compatible_brands: isomiso2avc1mp41\n",
            "    encoder         : Lavf57.72.101\n",
            "  Duration: 00:08:09.14, start: 0.000000, bitrate: 166 kb/s\n",
            "    Stream #0:0(und): Video: h264 (High) (avc1 / 0x31637661), yuv420p, 1920x1080, 37 kb/s, 1 fps, 1 tbr, 16384 tbn, 2 tbc (default)\n",
            "    Metadata:\n",
            "      handler_name    : VideoHandler\n",
            "    Stream #0:1(und): Audio: mp3 (mp4a / 0x6134706D), 44100 Hz, stereo, s16p, 127 kb/s (default)\n",
            "    Metadata:\n",
            "      handler_name    : SoundHandler\n",
            "Stream mapping:\n",
            "  Stream #0:0 -> #0:0 (h264 (native) -> h264 (libx264))\n",
            "  Stream #0:1 -> #0:1 (mp3 (native) -> aac (native))\n",
            "Press [q] to stop, [?] for help\n",
            "[libx264 @ 0x563e1d370800] using cpu capabilities: MMX2 SSE2Fast SSSE3 SSE4.2 AVX FMA3 BMI2 AVX2\n",
            "[libx264 @ 0x563e1d370800] profile High, level 4.0\n",
            "[libx264 @ 0x563e1d370800] 264 - core 152 r2854 e9a5903 - H.264/MPEG-4 AVC codec - Copyleft 2003-2017 - http://www.videolan.org/x264.html - options: cabac=1 ref=3 deblock=1:0:0 analyse=0x3:0x113 me=hex subme=7 psy=1 psy_rd=1.00:0.00 mixed_ref=1 me_range=16 chroma_me=1 trellis=1 8x8dct=1 cqm=0 deadzone=21,11 fast_pskip=1 chroma_qp_offset=-2 threads=3 lookahead_threads=1 sliced_threads=0 nr=0 decimate=1 interlaced=0 bluray_compat=0 constrained_intra=0 bframes=3 b_pyramid=2 b_adapt=1 b_bias=0 direct=1 weightb=1 open_gop=0 weightp=2 keyint=250 keyint_min=1 scenecut=40 intra_refresh=0 rc_lookahead=40 rc=crf mbtree=1 crf=23.0 qcomp=0.60 qpmin=0 qpmax=69 qpstep=4 ip_ratio=1.40 aq=1:1.00\n",
            "Output #0, mp4, to 'main1.mp4':\n",
            "  Metadata:\n",
            "    major_brand     : isom\n",
            "    minor_version   : 512\n",
            "    compatible_brands: isomiso2avc1mp41\n",
            "    encoder         : Lavf57.83.100\n",
            "    Stream #0:0(und): Video: h264 (libx264) (avc1 / 0x31637661), yuv420p, 1920x1080, q=-1--1, 1 fps, 16384 tbn, 1 tbc (default)\n",
            "    Metadata:\n",
            "      handler_name    : VideoHandler\n",
            "      encoder         : Lavc57.107.100 libx264\n",
            "    Side data:\n",
            "      cpb: bitrate max/min/avg: 0/0/0 buffer size: 0 vbv_delay: -1\n",
            "    Stream #0:1(und): Audio: aac (LC) (mp4a / 0x6134706D), 44100 Hz, stereo, fltp, 128 kb/s (default)\n",
            "    Metadata:\n",
            "      handler_name    : SoundHandler\n",
            "      encoder         : Lavc57.107.100 aac\n",
            "frame=    5 fps=0.0 q=0.0 size=       0kB time=00:00:06.87 bitrate=   0.0kbits/s speed=13.7x    \rframe=   15 fps= 15 q=0.0 size=       0kB time=00:00:16.20 bitrate=   0.0kbits/s speed=16.2x    \rframe=   24 fps= 16 q=0.0 size=       0kB time=00:00:25.26 bitrate=   0.0kbits/s speed=16.8x    \rframe=   34 fps= 17 q=0.0 size=     256kB time=00:00:35.52 bitrate=  59.0kbits/s speed=17.7x    \rframe=   43 fps= 17 q=0.0 size=     512kB time=00:00:44.62 bitrate=  94.0kbits/s speed=17.8x    \rframe=   49 fps= 16 q=17.0 size=     512kB time=00:00:50.31 bitrate=  83.4kbits/s speed=16.7x    \rframe=   56 fps= 16 q=17.0 size=     768kB time=00:00:57.70 bitrate= 109.0kbits/s speed=16.4x    \rframe=   65 fps= 16 q=17.0 size=    1024kB time=00:01:06.06 bitrate= 127.0kbits/s speed=16.4x    \rframe=   73 fps= 16 q=17.0 size=    1024kB time=00:01:14.41 bitrate= 112.7kbits/s speed=16.4x    \rframe=   81 fps= 16 q=17.0 size=    1280kB time=00:01:22.77 bitrate= 126.7kbits/s speed=16.5x    \rframe=   88 fps= 16 q=17.0 size=    1536kB time=00:01:28.97 bitrate= 141.4kbits/s speed=16.1x    \rframe=   96 fps= 16 q=17.0 size=    1536kB time=00:01:37.19 bitrate= 129.5kbits/s speed=16.1x    \rframe=  103 fps= 16 q=17.0 size=    1792kB time=00:01:44.23 bitrate= 140.8kbits/s speed=15.9x    \rframe=  111 fps= 16 q=17.0 size=    1792kB time=00:01:52.10 bitrate= 131.0kbits/s speed=15.9x    \rframe=  118 fps= 16 q=17.0 size=    2048kB time=00:01:59.72 bitrate= 140.1kbits/s speed=15.9x    \rframe=  126 fps= 16 q=17.0 size=    2048kB time=00:02:07.70 bitrate= 131.4kbits/s speed=15.9x    \rframe=  133 fps= 16 q=17.0 size=    2304kB time=00:02:14.23 bitrate= 140.6kbits/s speed=15.7x    \rframe=  140 fps= 15 q=17.0 size=    2560kB time=00:02:21.64 bitrate= 148.1kbits/s speed=15.6x    \rframe=  148 fps= 15 q=17.0 size=    2560kB time=00:02:29.72 bitrate= 140.1kbits/s speed=15.7x    \rframe=  156 fps= 16 q=17.0 size=    2816kB time=00:02:37.31 bitrate= 146.6kbits/s speed=15.6x    \rframe=  163 fps= 15 q=17.0 size=    2816kB time=00:02:44.30 bitrate= 140.4kbits/s speed=15.6x    \rframe=  170 fps= 15 q=17.0 size=    3072kB time=00:02:51.15 bitrate= 147.0kbits/s speed=15.5x    \rframe=  177 fps= 15 q=17.0 size=    3072kB time=00:02:58.95 bitrate= 140.6kbits/s speed=15.5x    \rframe=  184 fps= 15 q=17.0 size=    3328kB time=00:03:05.55 bitrate= 146.9kbits/s speed=15.4x    \rframe=  192 fps= 15 q=17.0 size=    3584kB time=00:03:13.21 bitrate= 152.0kbits/s speed=15.4x    \rframe=  200 fps= 15 q=17.0 size=    3584kB time=00:03:21.31 bitrate= 145.8kbits/s speed=15.4x    \rframe=  208 fps= 15 q=17.0 size=    3840kB time=00:03:29.07 bitrate= 150.5kbits/s speed=15.4x    \rframe=  216 fps= 15 q=17.0 size=    3840kB time=00:03:37.75 bitrate= 144.5kbits/s speed=15.5x    \rframe=  223 fps= 15 q=17.0 size=    4096kB time=00:03:44.62 bitrate= 149.4kbits/s speed=15.4x    \rframe=  232 fps= 15 q=17.0 size=    4096kB time=00:03:53.19 bitrate= 143.9kbits/s speed=15.5x    \rframe=  238 fps= 15 q=17.0 size=    4352kB time=00:03:59.16 bitrate= 149.1kbits/s speed=15.3x    \rframe=  246 fps= 15 q=17.0 size=    4608kB time=00:04:07.17 bitrate= 152.7kbits/s speed=15.4x    \rframe=  255 fps= 15 q=17.0 size=    4608kB time=00:04:16.04 bitrate= 147.4kbits/s speed=15.4x    \rframe=  263 fps= 15 q=17.0 size=    4864kB time=00:04:24.40 bitrate= 150.7kbits/s speed=15.5x    \rframe=  271 fps= 15 q=17.0 size=    4864kB time=00:04:32.78 bitrate= 146.1kbits/s speed=15.5x    \rframe=  279 fps= 15 q=17.0 size=    5120kB time=00:04:40.45 bitrate= 149.6kbits/s speed=15.5x    \rframe=  285 fps= 15 q=17.0 size=    5376kB time=00:04:46.81 bitrate= 153.6kbits/s speed=15.4x    \rframe=  293 fps= 15 q=17.0 size=    5632kB time=00:04:54.22 bitrate= 156.8kbits/s speed=15.4x    \rframe=  300 fps= 15 q=17.0 size=    5632kB time=00:05:01.74 bitrate= 152.9kbits/s speed=15.4x    \rframe=  309 fps= 15 q=17.0 size=    5888kB time=00:05:10.07 bitrate= 155.6kbits/s speed=15.4x    \rframe=  317 fps= 15 q=17.0 size=    5888kB time=00:05:18.32 bitrate= 151.5kbits/s speed=15.5x    \rframe=  325 fps= 15 q=17.0 size=    6144kB time=00:05:26.70 bitrate= 154.1kbits/s speed=15.5x    \rframe=  332 fps= 15 q=17.0 size=    6144kB time=00:05:33.78 bitrate= 150.8kbits/s speed=15.5x    \rframe=  339 fps= 15 q=17.0 size=    6400kB time=00:05:40.10 bitrate= 154.2kbits/s speed=15.4x    \rframe=  345 fps= 15 q=17.0 size=    6656kB time=00:05:46.44 bitrate= 157.4kbits/s speed=15.3x    \rframe=  353 fps= 15 q=17.0 size=    6656kB time=00:05:54.19 bitrate= 153.9kbits/s speed=15.3x    \rframe=  361 fps= 15 q=17.0 size=    6912kB time=00:06:02.13 bitrate= 156.4kbits/s speed=15.3x    \rframe=  368 fps= 15 q=17.0 size=    6912kB time=00:06:09.22 bitrate= 153.4kbits/s speed=15.3x    \rframe=  376 fps= 15 q=17.0 size=    7168kB time=00:06:17.09 bitrate= 155.7kbits/s speed=15.3x    \rframe=  382 fps= 15 q=17.0 size=    7168kB time=00:06:23.94 bitrate= 152.9kbits/s speed=15.3x    \rframe=  388 fps= 15 q=17.0 size=    7424kB time=00:06:29.93 bitrate= 156.0kbits/s speed=15.2x    \rframe=  395 fps= 15 q=17.0 size=    7680kB time=00:06:36.87 bitrate= 158.5kbits/s speed=15.2x    \rframe=  402 fps= 15 q=17.0 size=    7680kB time=00:06:43.09 bitrate= 156.1kbits/s speed=15.1x    \rframe=  409 fps= 15 q=17.0 size=    7936kB time=00:06:50.69 bitrate= 158.3kbits/s speed=15.1x    \rframe=  416 fps= 15 q=17.0 size=    7936kB time=00:06:57.56 bitrate= 155.7kbits/s speed=15.1x    \rframe=  424 fps= 15 q=17.0 size=    8192kB time=00:07:05.50 bitrate= 157.7kbits/s speed=15.1x    \rframe=  432 fps= 15 q=17.0 size=    8192kB time=00:07:13.07 bitrate= 155.0kbits/s speed=15.1x    \rframe=  439 fps= 15 q=17.0 size=    8448kB time=00:07:21.36 bitrate= 156.8kbits/s speed=15.1x    \rframe=  446 fps= 15 q=17.0 size=    8448kB time=00:07:28.23 bitrate= 154.4kbits/s speed=15.1x    \rframe=  451 fps= 15 q=17.0 size=    8960kB time=00:07:32.97 bitrate= 162.0kbits/s speed=  15x    \rframe=  457 fps= 15 q=17.0 size=    9216kB time=00:07:39.96 bitrate= 164.1kbits/s speed=  15x    \rframe=  465 fps= 15 q=17.0 size=    9216kB time=00:07:47.23 bitrate= 161.6kbits/s speed=  15x    \rframe=  472 fps= 15 q=17.0 size=    9216kB time=00:07:54.22 bitrate= 159.2kbits/s speed=  15x    \rframe=  481 fps= 15 q=17.0 size=    9472kB time=00:08:02.58 bitrate= 160.8kbits/s speed=  15x    \rframe=  489 fps= 15 q=-1.0 Lsize=   10165kB time=00:08:09.12 bitrate= 170.2kbits/s speed=14.7x    \n",
            "video:2200kB audio:7869kB subtitle:0kB other streams:0kB global headers:0kB muxing overhead: 0.959960%\n",
            "[libx264 @ 0x563e1d370800] frame I:10    Avg QP: 1.57  size:200914\n",
            "[libx264 @ 0x563e1d370800] frame P:124   Avg QP: 5.71  size:  1636\n",
            "[libx264 @ 0x563e1d370800] frame B:355   Avg QP: 4.54  size:   112\n",
            "[libx264 @ 0x563e1d370800] consecutive B-frames:  2.7%  1.2%  1.2% 94.9%\n",
            "[libx264 @ 0x563e1d370800] mb I  I16..4: 63.5% 23.5% 13.0%\n",
            "[libx264 @ 0x563e1d370800] mb P  I16..4:  0.1%  0.1%  0.0%  P16..4:  0.8%  0.2%  0.2%  0.0%  0.0%    skip:98.6%\n",
            "[libx264 @ 0x563e1d370800] mb B  I16..4:  0.0%  0.0%  0.0%  B16..8:  0.5%  0.0%  0.0%  direct: 0.0%  skip:99.5%  L0:41.1% L1:58.7% BI: 0.3%\n",
            "[libx264 @ 0x563e1d370800] 8x8 transform intra:24.2% inter:58.2%\n",
            "[libx264 @ 0x563e1d370800] coded y,uvDC,uvAC intra: 30.1% 26.2% 21.8% inter: 0.1% 0.2% 0.1%\n",
            "[libx264 @ 0x563e1d370800] i16 v,h,dc,p: 87%  8%  5%  0%\n",
            "[libx264 @ 0x563e1d370800] i8 v,h,dc,ddl,ddr,vr,hd,vl,hu: 24% 28% 28%  3%  3%  3%  4%  3%  5%\n",
            "[libx264 @ 0x563e1d370800] i4 v,h,dc,ddl,ddr,vr,hd,vl,hu: 32% 31% 10%  3%  6%  5%  5%  3%  4%\n",
            "[libx264 @ 0x563e1d370800] i8c dc,h,v,p: 73% 13% 10%  3%\n",
            "[libx264 @ 0x563e1d370800] Weighted P-Frames: Y:0.0% UV:0.0%\n",
            "[libx264 @ 0x563e1d370800] ref P L0: 71.8%  1.5% 24.6%  2.0%\n",
            "[libx264 @ 0x563e1d370800] ref B L0: 94.2%  5.7%  0.1%\n",
            "[libx264 @ 0x563e1d370800] ref B L1: 98.8%  1.2%\n",
            "[libx264 @ 0x563e1d370800] kb/s:36.84\n",
            "[aac @ 0x563e1d371700] Qavg: 611.151\n"
          ],
          "name": "stderr"
        }
      ]
    },
    {
      "cell_type": "code",
      "metadata": {
        "id": "QBEmu_hcHPcW",
        "colab": {
          "base_uri": "https://localhost:8080/"
        },
        "outputId": "fd587e9c-d23a-42d7-ec29-6c1b789002bf"
      },
      "source": [
        "#@title ##**Resize main2 video** { display-mode: \"form\" }\n",
        "\n",
        "%%bash\n",
        "ffmpeg -i new_main.mp4 -vf scale=1920:1080 new_main1.mp4"
      ],
      "execution_count": null,
      "outputs": [
        {
          "output_type": "stream",
          "text": [
            "ffmpeg version 3.4.8-0ubuntu0.2 Copyright (c) 2000-2020 the FFmpeg developers\n",
            "  built with gcc 7 (Ubuntu 7.5.0-3ubuntu1~18.04)\n",
            "  configuration: --prefix=/usr --extra-version=0ubuntu0.2 --toolchain=hardened --libdir=/usr/lib/x86_64-linux-gnu --incdir=/usr/include/x86_64-linux-gnu --enable-gpl --disable-stripping --enable-avresample --enable-avisynth --enable-gnutls --enable-ladspa --enable-libass --enable-libbluray --enable-libbs2b --enable-libcaca --enable-libcdio --enable-libflite --enable-libfontconfig --enable-libfreetype --enable-libfribidi --enable-libgme --enable-libgsm --enable-libmp3lame --enable-libmysofa --enable-libopenjpeg --enable-libopenmpt --enable-libopus --enable-libpulse --enable-librubberband --enable-librsvg --enable-libshine --enable-libsnappy --enable-libsoxr --enable-libspeex --enable-libssh --enable-libtheora --enable-libtwolame --enable-libvorbis --enable-libvpx --enable-libwavpack --enable-libwebp --enable-libx265 --enable-libxml2 --enable-libxvid --enable-libzmq --enable-libzvbi --enable-omx --enable-openal --enable-opengl --enable-sdl2 --enable-libdc1394 --enable-libdrm --enable-libiec61883 --enable-chromaprint --enable-frei0r --enable-libopencv --enable-libx264 --enable-shared\n",
            "  libavutil      55. 78.100 / 55. 78.100\n",
            "  libavcodec     57.107.100 / 57.107.100\n",
            "  libavformat    57. 83.100 / 57. 83.100\n",
            "  libavdevice    57. 10.100 / 57. 10.100\n",
            "  libavfilter     6.107.100 /  6.107.100\n",
            "  libavresample   3.  7.  0 /  3.  7.  0\n",
            "  libswscale      4.  8.100 /  4.  8.100\n",
            "  libswresample   2.  9.100 /  2.  9.100\n",
            "  libpostproc    54.  7.100 / 54.  7.100\n",
            "Input #0, mov,mp4,m4a,3gp,3g2,mj2, from 'new_main.mp4':\n",
            "  Metadata:\n",
            "    major_brand     : isom\n",
            "    minor_version   : 512\n",
            "    compatible_brands: isomiso2avc1mp41\n",
            "    encoder         : Lavf57.72.101\n",
            "  Duration: 00:10:12.99, start: 0.000000, bitrate: 177 kb/s\n",
            "    Stream #0:0(und): Video: h264 (High) (avc1 / 0x31637661), yuv420p, 1920x1080, 52 kb/s, 1 fps, 1 tbr, 16384 tbn, 2 tbc (default)\n",
            "    Metadata:\n",
            "      handler_name    : VideoHandler\n",
            "    Stream #0:1(und): Audio: mp3 (mp4a / 0x6134706D), 44100 Hz, stereo, s16p, 127 kb/s (default)\n",
            "    Metadata:\n",
            "      handler_name    : SoundHandler\n",
            "Stream mapping:\n",
            "  Stream #0:0 -> #0:0 (h264 (native) -> h264 (libx264))\n",
            "  Stream #0:1 -> #0:1 (mp3 (native) -> aac (native))\n",
            "Press [q] to stop, [?] for help\n",
            "[libx264 @ 0x557fa8224800] using cpu capabilities: MMX2 SSE2Fast SSSE3 SSE4.2 AVX FMA3 BMI2 AVX2\n",
            "[libx264 @ 0x557fa8224800] profile High, level 4.0\n",
            "[libx264 @ 0x557fa8224800] 264 - core 152 r2854 e9a5903 - H.264/MPEG-4 AVC codec - Copyleft 2003-2017 - http://www.videolan.org/x264.html - options: cabac=1 ref=3 deblock=1:0:0 analyse=0x3:0x113 me=hex subme=7 psy=1 psy_rd=1.00:0.00 mixed_ref=1 me_range=16 chroma_me=1 trellis=1 8x8dct=1 cqm=0 deadzone=21,11 fast_pskip=1 chroma_qp_offset=-2 threads=3 lookahead_threads=1 sliced_threads=0 nr=0 decimate=1 interlaced=0 bluray_compat=0 constrained_intra=0 bframes=3 b_pyramid=2 b_adapt=1 b_bias=0 direct=1 weightb=1 open_gop=0 weightp=2 keyint=250 keyint_min=1 scenecut=40 intra_refresh=0 rc_lookahead=40 rc=crf mbtree=1 crf=23.0 qcomp=0.60 qpmin=0 qpmax=69 qpstep=4 ip_ratio=1.40 aq=1:1.00\n",
            "Output #0, mp4, to 'new_main1.mp4':\n",
            "  Metadata:\n",
            "    major_brand     : isom\n",
            "    minor_version   : 512\n",
            "    compatible_brands: isomiso2avc1mp41\n",
            "    encoder         : Lavf57.83.100\n",
            "    Stream #0:0(und): Video: h264 (libx264) (avc1 / 0x31637661), yuv420p, 1920x1080, q=-1--1, 1 fps, 16384 tbn, 1 tbc (default)\n",
            "    Metadata:\n",
            "      handler_name    : VideoHandler\n",
            "      encoder         : Lavc57.107.100 libx264\n",
            "    Side data:\n",
            "      cpb: bitrate max/min/avg: 0/0/0 buffer size: 0 vbv_delay: -1\n",
            "    Stream #0:1(und): Audio: aac (LC) (mp4a / 0x6134706D), 44100 Hz, stereo, fltp, 128 kb/s (default)\n",
            "    Metadata:\n",
            "      handler_name    : SoundHandler\n",
            "      encoder         : Lavc57.107.100 aac\n",
            "frame=    7 fps=0.0 q=0.0 size=       0kB time=00:00:07.96 bitrate=   0.0kbits/s speed=15.9x    \rframe=   16 fps= 16 q=0.0 size=       0kB time=00:00:17.60 bitrate=   0.0kbits/s speed=17.6x    \rframe=   26 fps= 17 q=0.0 size=     256kB time=00:00:27.56 bitrate=  76.1kbits/s speed=18.3x    \rframe=   37 fps= 18 q=0.0 size=     256kB time=00:00:38.12 bitrate=  55.0kbits/s speed=  19x    \rframe=   45 fps= 18 q=0.0 size=     512kB time=00:00:46.18 bitrate=  90.8kbits/s speed=18.4x    \rframe=   49 fps= 16 q=17.0 size=     768kB time=00:00:50.80 bitrate= 123.8kbits/s speed=16.9x    \rframe=   55 fps= 16 q=17.0 size=    1024kB time=00:00:56.81 bitrate= 147.6kbits/s speed=16.2x    \rframe=   61 fps= 15 q=17.0 size=    1280kB time=00:01:02.32 bitrate= 168.3kbits/s speed=15.5x    \rframe=   68 fps= 15 q=17.0 size=    1280kB time=00:01:09.26 bitrate= 151.4kbits/s speed=15.4x    \rframe=   75 fps= 15 q=17.0 size=    1536kB time=00:01:16.92 bitrate= 163.6kbits/s speed=15.4x    \rframe=   83 fps= 15 q=17.0 size=    1536kB time=00:01:24.52 bitrate= 148.9kbits/s speed=15.3x    \rframe=   89 fps= 15 q=17.0 size=    1792kB time=00:01:30.81 bitrate= 161.7kbits/s speed=15.1x    \rframe=   97 fps= 15 q=17.0 size=    2048kB time=00:01:37.96 bitrate= 171.3kbits/s speed=  15x    \rframe=  104 fps= 15 q=17.0 size=    2048kB time=00:01:45.09 bitrate= 159.6kbits/s speed=  15x    \rframe=  111 fps= 15 q=17.0 size=    2304kB time=00:01:52.17 bitrate= 168.3kbits/s speed=14.9x    \rframe=  120 fps= 15 q=17.0 size=    2304kB time=00:02:00.97 bitrate= 156.0kbits/s speed=15.1x    \rframe=  128 fps= 15 q=17.0 size=    2560kB time=00:02:09.03 bitrate= 162.5kbits/s speed=15.1x    \rframe=  136 fps= 15 q=17.0 size=    2560kB time=00:02:17.25 bitrate= 152.8kbits/s speed=15.2x    \rframe=  143 fps= 15 q=14.0 size=    2816kB time=00:02:24.91 bitrate= 159.2kbits/s speed=15.2x    \rframe=  151 fps= 15 q=17.0 size=    3072kB time=00:02:32.23 bitrate= 165.3kbits/s speed=15.2x    \rframe=  158 fps= 15 q=17.0 size=    3072kB time=00:02:39.49 bitrate= 157.8kbits/s speed=15.2x    \rframe=  165 fps= 15 q=17.0 size=    3328kB time=00:02:46.74 bitrate= 163.5kbits/s speed=15.1x    \rframe=  173 fps= 15 q=17.0 size=    3328kB time=00:02:54.03 bitrate= 156.7kbits/s speed=15.1x    \rframe=  180 fps= 15 q=17.0 size=    3328kB time=00:03:01.06 bitrate= 150.6kbits/s speed=  15x    \rframe=  188 fps= 15 q=17.0 size=    3584kB time=00:03:09.01 bitrate= 155.3kbits/s speed=15.1x    \rframe=  194 fps= 15 q=17.0 size=    4096kB time=00:03:15.65 bitrate= 171.5kbits/s speed=  15x    \rframe=  202 fps= 15 q=17.0 size=    4096kB time=00:03:23.01 bitrate= 165.3kbits/s speed=  15x    \rframe=  209 fps= 15 q=17.0 size=    4096kB time=00:03:30.21 bitrate= 159.6kbits/s speed=  15x    \rframe=  216 fps= 15 q=17.0 size=    4352kB time=00:03:37.15 bitrate= 164.2kbits/s speed=14.9x    \rframe=  222 fps= 15 q=17.0 size=    4352kB time=00:03:43.86 bitrate= 159.3kbits/s speed=14.9x    \rframe=  230 fps= 15 q=17.0 size=    4608kB time=00:03:51.24 bitrate= 163.2kbits/s speed=14.9x    \rframe=  237 fps= 15 q=17.0 size=    4608kB time=00:03:58.84 bitrate= 158.1kbits/s speed=14.9x    \rframe=  245 fps= 15 q=14.0 size=    4864kB time=00:04:06.27 bitrate= 161.8kbits/s speed=14.9x    \rframe=  252 fps= 15 q=17.0 size=    5120kB time=00:04:13.19 bitrate= 165.7kbits/s speed=14.8x    \rframe=  260 fps= 15 q=17.0 size=    5120kB time=00:04:21.22 bitrate= 160.6kbits/s speed=14.9x    \rframe=  268 fps= 15 q=17.0 size=    5376kB time=00:04:29.14 bitrate= 163.6kbits/s speed=14.9x    \rframe=  275 fps= 15 q=17.0 size=    5376kB time=00:04:36.89 bitrate= 159.0kbits/s speed=14.9x    \rframe=  283 fps= 15 q=17.0 size=    5632kB time=00:04:44.11 bitrate= 162.4kbits/s speed=14.9x    \rframe=  291 fps= 15 q=17.0 size=    5632kB time=00:04:52.10 bitrate= 157.9kbits/s speed=14.9x    \rframe=  299 fps= 15 q=17.0 size=    5888kB time=00:05:00.60 bitrate= 160.5kbits/s speed=  15x    \rframe=  306 fps= 15 q=17.0 size=    5888kB time=00:05:07.78 bitrate= 156.7kbits/s speed=14.9x    \rframe=  313 fps= 15 q=17.0 size=    6400kB time=00:05:14.28 bitrate= 166.8kbits/s speed=14.9x    \rframe=  319 fps= 15 q=17.0 size=    6400kB time=00:05:20.80 bitrate= 163.4kbits/s speed=14.9x    \rframe=  327 fps= 15 q=17.0 size=    6656kB time=00:05:28.56 bitrate= 166.0kbits/s speed=14.9x    \rframe=  334 fps= 15 q=17.0 size=    6656kB time=00:05:35.27 bitrate= 162.6kbits/s speed=14.8x    \rframe=  341 fps= 15 q=17.0 size=    6912kB time=00:05:42.05 bitrate= 165.5kbits/s speed=14.8x    \rframe=  348 fps= 15 q=17.0 size=    6912kB time=00:05:49.27 bitrate= 162.1kbits/s speed=14.8x    \rframe=  355 fps= 15 q=17.0 size=    6912kB time=00:05:55.98 bitrate= 159.1kbits/s speed=14.8x    \rframe=  359 fps= 15 q=17.0 size=    7936kB time=00:06:00.07 bitrate= 180.6kbits/s speed=14.6x    \rframe=  365 fps= 15 q=17.0 size=    7936kB time=00:06:06.57 bitrate= 177.4kbits/s speed=14.6x    \rframe=  371 fps= 14 q=17.0 size=    8192kB time=00:06:12.19 bitrate= 180.3kbits/s speed=14.5x    \rframe=  378 fps= 14 q=17.0 size=    8192kB time=00:06:18.99 bitrate= 177.1kbits/s speed=14.5x    \rframe=  384 fps= 14 q=17.0 size=    8448kB time=00:06:25.17 bitrate= 179.7kbits/s speed=14.5x    \rframe=  391 fps= 14 q=17.0 size=    8448kB time=00:06:31.95 bitrate= 176.6kbits/s speed=14.4x    \rframe=  396 fps= 14 q=17.0 size=    8448kB time=00:06:37.59 bitrate= 174.1kbits/s speed=14.4x    \rframe=  403 fps= 14 q=17.0 size=    8704kB time=00:06:44.25 bitrate= 176.4kbits/s speed=14.4x    \rframe=  409 fps= 14 q=17.0 size=    8704kB time=00:06:49.99 bitrate= 173.9kbits/s speed=14.3x    \rframe=  414 fps= 14 q=17.0 size=    9472kB time=00:06:55.49 bitrate= 186.8kbits/s speed=14.3x    \rframe=  421 fps= 14 q=17.0 size=    9472kB time=00:07:02.57 bitrate= 183.6kbits/s speed=14.3x    \rframe=  430 fps= 14 q=17.0 size=    9728kB time=00:07:10.98 bitrate= 184.9kbits/s speed=14.3x    \rframe=  437 fps= 14 q=17.0 size=    9728kB time=00:07:18.39 bitrate= 181.8kbits/s speed=14.3x    \rframe=  445 fps= 14 q=17.0 size=    9728kB time=00:07:26.35 bitrate= 178.5kbits/s speed=14.3x    \rframe=  451 fps= 14 q=17.0 size=    9984kB time=00:07:32.62 bitrate= 180.7kbits/s speed=14.3x    \rframe=  458 fps= 14 q=17.0 size=    9984kB time=00:07:39.49 bitrate= 178.0kbits/s speed=14.3x    \rframe=  465 fps= 14 q=17.0 size=   10240kB time=00:07:46.44 bitrate= 179.8kbits/s speed=14.3x    \rframe=  472 fps= 14 q=17.0 size=   10496kB time=00:07:53.08 bitrate= 181.8kbits/s speed=14.3x    \rframe=  480 fps= 14 q=17.0 size=   10496kB time=00:08:00.97 bitrate= 178.8kbits/s speed=14.3x    \rframe=  488 fps= 14 q=17.0 size=   10752kB time=00:08:09.29 bitrate= 180.0kbits/s speed=14.3x    \rframe=  495 fps= 14 q=17.0 size=   10752kB time=00:08:16.51 bitrate= 177.4kbits/s speed=14.3x    \rframe=  503 fps= 14 q=17.0 size=   11008kB time=00:08:24.49 bitrate= 178.7kbits/s speed=14.3x    \rframe=  511 fps= 14 q=17.0 size=   11008kB time=00:08:31.97 bitrate= 176.1kbits/s speed=14.4x    \rframe=  518 fps= 14 q=17.0 size=   11264kB time=00:08:39.98 bitrate= 177.5kbits/s speed=14.4x    \rframe=  525 fps= 14 q=17.0 size=   11264kB time=00:08:47.83 bitrate= 174.8kbits/s speed=14.4x    \rframe=  532 fps= 14 q=17.0 size=   11520kB time=00:08:54.33 bitrate= 176.6kbits/s speed=14.4x    \rframe=  538 fps= 14 q=17.0 size=   11520kB time=00:09:00.90 bitrate= 174.5kbits/s speed=14.4x    \rframe=  544 fps= 14 q=17.0 size=   12032kB time=00:09:06.36 bitrate= 180.4kbits/s speed=14.3x    \rframe=  551 fps= 14 q=17.0 size=   12288kB time=00:09:13.37 bitrate= 181.9kbits/s speed=14.3x    \rframe=  558 fps= 14 q=17.0 size=   12288kB time=00:09:21.71 bitrate= 179.2kbits/s speed=14.3x    \rframe=  558 fps= 14 q=17.0 size=   12544kB time=00:09:30.00 bitrate= 180.3kbits/s speed=14.4x    \rframe=  558 fps= 14 q=17.0 size=   12544kB time=00:09:41.61 bitrate= 176.7kbits/s speed=14.5x    \rframe=  558 fps= 14 q=17.0 size=   12800kB time=00:09:53.38 bitrate= 176.7kbits/s speed=14.6x    \rframe=  558 fps= 14 q=17.0 size=   13056kB time=00:10:05.11 bitrate= 176.8kbits/s speed=14.7x    \rframe=  562 fps= 13 q=-1.0 Lsize=   13547kB time=00:10:12.98 bitrate= 181.0kbits/s speed=14.5x    \n",
            "video:3555kB audio:9872kB subtitle:0kB other streams:0kB global headers:0kB muxing overhead: 0.889172%\n",
            "[libx264 @ 0x557fa8224800] frame I:10    Avg QP: 3.52  size:302243\n",
            "[libx264 @ 0x557fa8224800] frame P:142   Avg QP: 7.50  size:  3905\n",
            "[libx264 @ 0x557fa8224800] frame B:410   Avg QP: 6.11  size:   154\n",
            "[libx264 @ 0x557fa8224800] consecutive B-frames:  2.3%  0.7%  1.6% 95.4%\n",
            "[libx264 @ 0x557fa8224800] mb I  I16..4: 41.2% 45.5% 13.3%\n",
            "[libx264 @ 0x557fa8224800] mb P  I16..4:  0.4%  0.1%  0.1%  P16..4:  1.3%  0.2%  0.2%  0.0%  0.0%    skip:97.6%\n",
            "[libx264 @ 0x557fa8224800] mb B  I16..4:  0.0%  0.0%  0.0%  B16..8:  0.7%  0.0%  0.0%  direct: 0.0%  skip:99.3%  L0:27.3% L1:71.9% BI: 0.8%\n",
            "[libx264 @ 0x557fa8224800] 8x8 transform intra:43.7% inter:69.8%\n",
            "[libx264 @ 0x557fa8224800] coded y,uvDC,uvAC intra: 40.2% 35.7% 29.4% inter: 0.3% 0.3% 0.2%\n",
            "[libx264 @ 0x557fa8224800] i16 v,h,dc,p: 80% 13%  7%  1%\n",
            "[libx264 @ 0x557fa8224800] i8 v,h,dc,ddl,ddr,vr,hd,vl,hu: 28% 23% 31%  3%  2%  2%  2%  3%  4%\n",
            "[libx264 @ 0x557fa8224800] i4 v,h,dc,ddl,ddr,vr,hd,vl,hu: 36% 33%  9%  3%  4%  3%  4%  3%  4%\n",
            "[libx264 @ 0x557fa8224800] i8c dc,h,v,p: 63% 19% 15%  4%\n",
            "[libx264 @ 0x557fa8224800] Weighted P-Frames: Y:0.0% UV:0.0%\n",
            "[libx264 @ 0x557fa8224800] ref P L0: 86.7%  3.1%  7.4%  2.8%\n",
            "[libx264 @ 0x557fa8224800] ref B L0: 91.7%  7.9%  0.4%\n",
            "[libx264 @ 0x557fa8224800] ref B L1: 96.2%  3.8%\n",
            "[libx264 @ 0x557fa8224800] kb/s:51.82\n",
            "[aac @ 0x557fa8225700] Qavg: 671.087\n"
          ],
          "name": "stderr"
        }
      ]
    },
    {
      "cell_type": "code",
      "metadata": {
        "id": "ptxWnKOvASis",
        "colab": {
          "base_uri": "https://localhost:8080/"
        },
        "outputId": "b488c077-d5d8-429b-ad3e-9401fb5c0b3f"
      },
      "source": [
        "#@title ##**Add intro1, main1 video and outro** { display-mode: \"form\" }\n",
        "\n",
        "%%bash\n",
        "ffmpeg -f concat -safe 0 -i list.txt -c copy final_upload.mp4 \n"
      ],
      "execution_count": null,
      "outputs": [
        {
          "output_type": "stream",
          "text": [
            "ffmpeg version 3.4.8-0ubuntu0.2 Copyright (c) 2000-2020 the FFmpeg developers\n",
            "  built with gcc 7 (Ubuntu 7.5.0-3ubuntu1~18.04)\n",
            "  configuration: --prefix=/usr --extra-version=0ubuntu0.2 --toolchain=hardened --libdir=/usr/lib/x86_64-linux-gnu --incdir=/usr/include/x86_64-linux-gnu --enable-gpl --disable-stripping --enable-avresample --enable-avisynth --enable-gnutls --enable-ladspa --enable-libass --enable-libbluray --enable-libbs2b --enable-libcaca --enable-libcdio --enable-libflite --enable-libfontconfig --enable-libfreetype --enable-libfribidi --enable-libgme --enable-libgsm --enable-libmp3lame --enable-libmysofa --enable-libopenjpeg --enable-libopenmpt --enable-libopus --enable-libpulse --enable-librubberband --enable-librsvg --enable-libshine --enable-libsnappy --enable-libsoxr --enable-libspeex --enable-libssh --enable-libtheora --enable-libtwolame --enable-libvorbis --enable-libvpx --enable-libwavpack --enable-libwebp --enable-libx265 --enable-libxml2 --enable-libxvid --enable-libzmq --enable-libzvbi --enable-omx --enable-openal --enable-opengl --enable-sdl2 --enable-libdc1394 --enable-libdrm --enable-libiec61883 --enable-chromaprint --enable-frei0r --enable-libopencv --enable-libx264 --enable-shared\n",
            "  libavutil      55. 78.100 / 55. 78.100\n",
            "  libavcodec     57.107.100 / 57.107.100\n",
            "  libavformat    57. 83.100 / 57. 83.100\n",
            "  libavdevice    57. 10.100 / 57. 10.100\n",
            "  libavfilter     6.107.100 /  6.107.100\n",
            "  libavresample   3.  7.  0 /  3.  7.  0\n",
            "  libswscale      4.  8.100 /  4.  8.100\n",
            "  libswresample   2.  9.100 /  2.  9.100\n",
            "  libpostproc    54.  7.100 / 54.  7.100\n",
            "[mov,mp4,m4a,3gp,3g2,mj2 @ 0x55b6758e6600] Auto-inserting h264_mp4toannexb bitstream filter\n",
            "Input #0, concat, from 'list.txt':\n",
            "  Duration: N/A, start: -0.023220, bitrate: 163 kb/s\n",
            "    Stream #0:0(und): Video: h264 (High) (avc1 / 0x31637661), yuv420p, 1920x1080, 35 kb/s, 1 fps, 1 tbr, 16384 tbn, 2 tbc\n",
            "    Metadata:\n",
            "      handler_name    : VideoHandler\n",
            "    Stream #0:1(und): Audio: aac (LC) (mp4a / 0x6134706D), 44100 Hz, stereo, fltp, 127 kb/s\n",
            "    Metadata:\n",
            "      handler_name    : SoundHandler\n",
            "Output #0, mp4, to 'final_upload.mp4':\n",
            "  Metadata:\n",
            "    encoder         : Lavf57.83.100\n",
            "    Stream #0:0(und): Video: h264 (High) (avc1 / 0x31637661), yuv420p, 1920x1080, q=2-31, 35 kb/s, 1 fps, 1 tbr, 16384 tbn, 16384 tbc\n",
            "    Metadata:\n",
            "      handler_name    : VideoHandler\n",
            "    Stream #0:1(und): Audio: aac (LC) (mp4a / 0x6134706D), 44100 Hz, stereo, fltp, 127 kb/s\n",
            "    Metadata:\n",
            "      handler_name    : SoundHandler\n",
            "Stream mapping:\n",
            "  Stream #0:0 -> #0:0 (copy)\n",
            "  Stream #0:1 -> #0:1 (copy)\n",
            "Press [q] to stop, [?] for help\n",
            "[mov,mp4,m4a,3gp,3g2,mj2 @ 0x55b6758e8a00] Auto-inserting h264_mp4toannexb bitstream filter\n",
            "    Last message repeated 1 times\n",
            "frame=  504 fps=0.0 q=-1.0 Lsize=   10488kB time=00:08:24.48 bitrate= 170.3kbits/s speed=2.25e+03x    \n",
            "video:2279kB audio:8111kB subtitle:0kB other streams:0kB global headers:0kB muxing overhead: 0.933722%\n"
          ],
          "name": "stderr"
        }
      ]
    },
    {
      "cell_type": "code",
      "metadata": {
        "id": "Q_68QuioHnQ4",
        "colab": {
          "base_uri": "https://localhost:8080/"
        },
        "outputId": "ee7f8a69-d1d0-4eb3-f92a-911bdace21e6"
      },
      "source": [
        "#@title ##**Add intro2, main2 video and outro** { display-mode: \"form\" }\n",
        "\n",
        "%%bash\n",
        "ffmpeg -f concat -safe 0 -i new_list.txt -c copy new_final_upload.mp4 \n"
      ],
      "execution_count": null,
      "outputs": [
        {
          "output_type": "stream",
          "text": [
            "ffmpeg version 3.4.8-0ubuntu0.2 Copyright (c) 2000-2020 the FFmpeg developers\n",
            "  built with gcc 7 (Ubuntu 7.5.0-3ubuntu1~18.04)\n",
            "  configuration: --prefix=/usr --extra-version=0ubuntu0.2 --toolchain=hardened --libdir=/usr/lib/x86_64-linux-gnu --incdir=/usr/include/x86_64-linux-gnu --enable-gpl --disable-stripping --enable-avresample --enable-avisynth --enable-gnutls --enable-ladspa --enable-libass --enable-libbluray --enable-libbs2b --enable-libcaca --enable-libcdio --enable-libflite --enable-libfontconfig --enable-libfreetype --enable-libfribidi --enable-libgme --enable-libgsm --enable-libmp3lame --enable-libmysofa --enable-libopenjpeg --enable-libopenmpt --enable-libopus --enable-libpulse --enable-librubberband --enable-librsvg --enable-libshine --enable-libsnappy --enable-libsoxr --enable-libspeex --enable-libssh --enable-libtheora --enable-libtwolame --enable-libvorbis --enable-libvpx --enable-libwavpack --enable-libwebp --enable-libx265 --enable-libxml2 --enable-libxvid --enable-libzmq --enable-libzvbi --enable-omx --enable-openal --enable-opengl --enable-sdl2 --enable-libdc1394 --enable-libdrm --enable-libiec61883 --enable-chromaprint --enable-frei0r --enable-libopencv --enable-libx264 --enable-shared\n",
            "  libavutil      55. 78.100 / 55. 78.100\n",
            "  libavcodec     57.107.100 / 57.107.100\n",
            "  libavformat    57. 83.100 / 57. 83.100\n",
            "  libavdevice    57. 10.100 / 57. 10.100\n",
            "  libavfilter     6.107.100 /  6.107.100\n",
            "  libavresample   3.  7.  0 /  3.  7.  0\n",
            "  libswscale      4.  8.100 /  4.  8.100\n",
            "  libswresample   2.  9.100 /  2.  9.100\n",
            "  libpostproc    54.  7.100 / 54.  7.100\n",
            "[mov,mp4,m4a,3gp,3g2,mj2 @ 0x564ba2690600] Auto-inserting h264_mp4toannexb bitstream filter\n",
            "Input #0, concat, from 'new_list.txt':\n",
            "  Duration: N/A, start: -0.023220, bitrate: 163 kb/s\n",
            "    Stream #0:0(und): Video: h264 (High) (avc1 / 0x31637661), yuv420p, 1920x1080, 35 kb/s, 1 fps, 1 tbr, 16384 tbn, 2 tbc\n",
            "    Metadata:\n",
            "      handler_name    : VideoHandler\n",
            "    Stream #0:1(und): Audio: aac (LC) (mp4a / 0x6134706D), 44100 Hz, stereo, fltp, 127 kb/s\n",
            "    Metadata:\n",
            "      handler_name    : SoundHandler\n",
            "Output #0, mp4, to 'new_final_upload.mp4':\n",
            "  Metadata:\n",
            "    encoder         : Lavf57.83.100\n",
            "    Stream #0:0(und): Video: h264 (High) (avc1 / 0x31637661), yuv420p, 1920x1080, q=2-31, 35 kb/s, 1 fps, 1 tbr, 16384 tbn, 16384 tbc\n",
            "    Metadata:\n",
            "      handler_name    : VideoHandler\n",
            "    Stream #0:1(und): Audio: aac (LC) (mp4a / 0x6134706D), 44100 Hz, stereo, fltp, 127 kb/s\n",
            "    Metadata:\n",
            "      handler_name    : SoundHandler\n",
            "Stream mapping:\n",
            "  Stream #0:0 -> #0:0 (copy)\n",
            "  Stream #0:1 -> #0:1 (copy)\n",
            "Press [q] to stop, [?] for help\n",
            "[mov,mp4,m4a,3gp,3g2,mj2 @ 0x564ba2692a00] Auto-inserting h264_mp4toannexb bitstream filter\n",
            "    Last message repeated 1 times\n",
            "frame=  577 fps=0.0 q=-1.0 Lsize=   13869kB time=00:10:28.33 bitrate= 180.8kbits/s speed=2.09e+03x    \n",
            "video:3635kB audio:10114kB subtitle:0kB other streams:0kB global headers:0kB muxing overhead: 0.868311%\n"
          ],
          "name": "stderr"
        }
      ]
    },
    {
      "cell_type": "code",
      "metadata": {
        "id": "jKUwaMacEK8U",
        "colab": {
          "base_uri": "https://localhost:8080/"
        },
        "outputId": "71ace80e-70ec-4704-bbe8-cd7705adcebb"
      },
      "source": [
        "#@title ##**Move videos,csv,image** { display-mode: \"form\" }\n",
        "!mv \"/content/gdrive/My Drive/news/video/thumb1.jpg\"  \"/content/gdrive/My Drive/youtube_last uploads/\"\n",
        "!mv \"/content/gdrive/My Drive/news/video/thumb2.jpg\"  \"/content/gdrive/My Drive/youtube_last uploads/\"\n",
        "!mv \"/content/gdrive/My Drive/news/video/final_upload.mp4\"  \"/content/gdrive/My Drive/youtube_last uploads/video1.mp4\"\n",
        "!mv \"/content/gdrive/My Drive/news/video/new_final_upload.mp4\"  \"/content/gdrive/My Drive/youtube_last uploads/video2.mp4\"\n",
        "!mv \"/content/gdrive/My Drive/news/csv/data.csv\" \"/content/gdrive/My Drive/youtube_last uploads/\"\n",
        "%cd /content/gdrive/My Drive/youtube_last uploads"
      ],
      "execution_count": null,
      "outputs": [
        {
          "output_type": "stream",
          "text": [
            "/content/gdrive/My Drive/youtube_last uploads\n"
          ],
          "name": "stdout"
        }
      ]
    },
    {
      "cell_type": "code",
      "metadata": {
        "id": "TNfm1wJSL7-y"
      },
      "source": [
        "#@title ##**Make tag, title, descriptions** { display-mode: \"form\" }\n",
        "from rake_nltk import Rake\n",
        "r = Rake()\n",
        "\n",
        "#tag for video 1\n",
        "mini_tag1=[]\n",
        "tag1=[]\n",
        "check1=0\n",
        "for i in range(up_to):\n",
        "  check1+=len(clean_title[i][:40])\n",
        "  r.extract_keywords_from_text(clean_title[i][:50])\n",
        "  key=r.get_ranked_phrases() \n",
        "  mini_tag1.append(key)\n",
        "for i in mini_tag1:\n",
        "  for j in i:\n",
        "    if check1<=500:\n",
        "      if len(j)>=15:\n",
        "         tag1.append(j)      \n",
        "if check1<=480:\n",
        "  tag1.append(\"android iceland\")\n",
        "\n",
        "\n",
        "#tag for video 2\n",
        "mini_tag2=[]\n",
        "tag2=[]\n",
        "check2=0\n",
        "for i in range(up_to,len(titles)):\n",
        "  check2+=len(clean_title[i][:40])\n",
        "  r.extract_keywords_from_text(clean_title[i][:50])\n",
        "  key=r.get_ranked_phrases() \n",
        "  mini_tag2.append(key)\n",
        "for i in mini_tag2:\n",
        "  for j in i:\n",
        "    if check2<=500:\n",
        "      if len(j)>=15:\n",
        "         tag2.append(j)       \n",
        "if check2<=470:\n",
        "  tag2.append(\"android iceland\")  \n",
        "\n",
        "\n",
        "#title for video 1  \n",
        "f1 = open('/content/gdrive/My Drive/youtube_last uploads/title_count1.csv', \"r\")\n",
        "last_line = f1.readlines()[-1]\n",
        "f1.close()\n",
        "new=int(last_line[0])\n",
        "ti_1=\"Tech News #\"+str(new+1)\n",
        "ti_2=\"Tech News #\"+str(new+2)\n",
        "\n",
        "\n",
        "tit_len1=0\n",
        "for i in tag1:\n",
        "  tit_len1+=len(i)\n",
        "  if tit_len1<=80:\n",
        "    ti_1=ti_1+\",\"+i\n",
        "\n",
        "#title for video 1  \n",
        "tit_len2=0\n",
        "for i in tag2:\n",
        "  tit_len2+=len(i)\n",
        "  if tit_len2<=80:\n",
        "    ti_2=ti_2+\",\"+i\n",
        "\n",
        "\n",
        "#descriptions\n",
        "description_for_upload=\"DISCLAIMER::\\nThis Channel DOES NOT Promote or encourage Any illegal activities,all contents provided by This Channel is meant for EDUCATIONAL PURPOSE only, this video is made for 'fair use' for purposes such as criticism, comment, news re- porting, teaching, scholarship,and research, this video is Non-profit, educational or personal use and fair use.\\n\\n'Subscribe 'Android Iceland':: \\nhttps://www.youtube.com/channel/UC0Jp1opulANvXKgrcev755A?sub_confirmation=1 \\n\\nLike this video and Subscribe 'Android Iceland'\\n \\nAbout ::\\nAndroid Iceland is a YouTube channel, where you will find technical video's mostly based on android , coding and some personal blogs.\"\n",
        "\n",
        "\n",
        "with open (\"tag_title(1).txt\",\"w\") as f:\n",
        "  f.write( ti_1 +\"\\n\\n\")\n",
        "  f.write(description_for_upload+\"\\n\\n\")\n",
        "  for i in tag1:\n",
        "    f.write(i+\",\")   \n",
        "\n",
        "\n",
        "with open (\"tag_title(2).txt\",\"w\") as f:\n",
        "  f.write( ti_2 +\"\\n\\n\")\n",
        "  f.write(description_for_upload+\"\\n\\n\")\n",
        "  for i in tag2:\n",
        "    f.write(i+\",\")   \n",
        "\n",
        "\n",
        "\n",
        "\n",
        "\n",
        "\n",
        "\n",
        "\n",
        "\n",
        "\n",
        "#Update new count file by 2\n",
        "with open('/content/gdrive/My Drive/youtube_last uploads/title_count1.csv','w') as file:\n",
        "    writer = csv.writer(file)\n",
        "    writer.writerow([new+2])     \n",
        "%cd /content/gdrive/My Drive/\n",
        "\n",
        "!rm -rf \"/content/gdrive/My Drive/news\"\n",
        "clear_output()"
      ],
      "execution_count": null,
      "outputs": []
    },
    {
      "cell_type": "code",
      "metadata": {
        "id": "2bSYuPyPv7zn"
      },
      "source": [
        "#@title ##**Store title and description in database** { display-mode: \"form\" }\n",
        "\n",
        "import pandas as pd\n",
        "all_filenames = [\"/content/gdrive/My Drive/youtube_last uploads/database.csv\",\"/content/gdrive/My Drive/youtube_last uploads/data.csv\"]\n",
        "#combine all files in the list\n",
        "combined_csv = pd.concat([pd.read_csv(f) for f in all_filenames ])\n",
        "#export to csv\n",
        "combined_csv.to_csv( \"/content/gdrive/My Drive/youtube_last uploads/database.csv\", index=False, encoding='utf-8-sig')\n",
        "!rm -rf \"/content/gdrive/My Drive/youtube_last uploads/data.csv\""
      ],
      "execution_count": null,
      "outputs": []
    },
    {
      "cell_type": "code",
      "metadata": {
        "id": "dK3Xc9qS5Njm",
        "colab": {
          "base_uri": "https://localhost:8080/"
        },
        "outputId": "7e9510e4-b336-4304-df17-a1bccedee91e"
      },
      "source": [
        "#@title ##**latest number of news_count** { display-mode: \"form\" }\n",
        "f1 = open('/content/gdrive/My Drive/youtube_last uploads/title_count1.csv', \"r\")\n",
        "last_line = f1.readlines()[-1]\n",
        "f1.close()\n",
        "news_count=int(last_line[0])  \n",
        "news_count"
      ],
      "execution_count": null,
      "outputs": [
        {
          "output_type": "execute_result",
          "data": {
            "text/plain": [
              "1"
            ]
          },
          "metadata": {
            "tags": []
          },
          "execution_count": 58
        }
      ]
    },
    {
      "cell_type": "code",
      "metadata": {
        "id": "ZMip0htv4Sj_",
        "cellView": "form"
      },
      "source": [
        "@title ##**Reset title count** { display-mode: \"form\" }\n",
        "\n",
        "#@markdown ---\n",
        "#@markdown ### Reset the news count:\n",
        "news_count_change = \"8\"#@param {type:\"string\"}\n",
        "#@markdown ---\n",
        "change=int(news_count_change)\n",
        "with open('/content/gdrive/My Drive/youtube_last uploads/title_count1.csv', 'w', newline='') as file:\n",
        "    writer = csv.writer(file)\n",
        "    writer.writerow([change])\n",
        "f1 = open('/content/gdrive/My Drive/youtube_last uploads/title_count1.csv', \"r\")\n",
        "last_line = f1.readlines()[-1]\n",
        "f1.close()\n",
        "news_count=int(last_line[0])  \n"
      ],
      "execution_count": null,
      "outputs": []
    },
    {
      "cell_type": "code",
      "metadata": {
        "id": "Vf8Tuhlh0uYD",
        "colab": {
          "base_uri": "https://localhost:8080/"
        },
        "outputId": "7db51761-ca5e-4f7d-ba7b-44da283712d9"
      },
      "source": [
        "#@title ##**After changing news count** { display-mode: \"form\" }\n",
        "\n",
        "print(\"reset news count at \",news_count)"
      ],
      "execution_count": null,
      "outputs": [
        {
          "output_type": "stream",
          "text": [
            "reset news count at  8\n"
          ],
          "name": "stdout"
        }
      ]
    },
    {
      "cell_type": "code",
      "metadata": {
        "id": "nsXg4FLkd02p",
        "colab": {
          "base_uri": "https://localhost:8080/"
        },
        "outputId": "fcac07bc-1ed0-4336-edcc-37f53c277fec"
      },
      "source": [
        "#@title ##**move videos and thumbnails to youtube upload folder,title_tag file** { display-mode: \"form\" }\n",
        "\n",
        "%cd /content/gdrive/My Drive/youtube_access\n",
        "!python3 Google.py\n",
        "!mv \"/content/gdrive/My Drive/youtube_last uploads/video1.mp4\" \"/content/gdrive/My Drive/youtube_access\"\n",
        "!mv \"/content/gdrive/My Drive/youtube_last uploads/video2.mp4\" \"/content/gdrive/My Drive/youtube_access\"\n",
        "!mv \"/content/gdrive/My Drive/youtube_last uploads/thumb1.jpg\" \"/content/gdrive/My Drive/youtube_access\"\n",
        "!mv \"/content/gdrive/My Drive/youtube_last uploads/thumb2.jpg\" \"/content/gdrive/My Drive/youtube_access\"\n",
        "\n",
        "with open (\"tag_title(1).txt\",\"w\") as f:\n",
        "  f.write( ti_1 +\"\\n \\n\")\n",
        "  f.write(description_for_upload+\"\\n\\n\")\n",
        "  for i in tag1:\n",
        "    f.write(i+\",\")  \n",
        "with open (\"tag_title(2).txt\",\"w\") as f:\n",
        "  f.write( ti_2 +\"\\n \\n\")\n",
        "  f.write(description_for_upload+\"\\n \\n\")\n",
        "  for i in tag2:\n",
        "    f.write(i+\",\")  "
      ],
      "execution_count": null,
      "outputs": [
        {
          "output_type": "stream",
          "text": [
            "/content/gdrive/My Drive/youtube_access\n"
          ],
          "name": "stdout"
        }
      ]
    },
    {
      "cell_type": "code",
      "metadata": {
        "id": "YdZBPIad5VbH"
      },
      "source": [
        "#@title ##**Upload video1** { display-mode: \"form\" }\n",
        "\n",
        "import datetime\n",
        "from Google import Create_Service\n",
        "from googleapiclient.http import MediaFileUpload\n",
        "\n",
        "CLIENT_SECRET_FILE = 'client_secret.json'\n",
        "API_NAME = 'youtube'\n",
        "API_VERSION = 'v3'\n",
        "SCOPES = ['https://www.googleapis.com/auth/youtube.upload']\n",
        "\n",
        "service = Create_Service(CLIENT_SECRET_FILE, API_NAME, API_VERSION, SCOPES)\n",
        "now = datetime.datetime.now()\n",
        "now_plus_10 = now + datetime.timedelta(minutes = 15)\n",
        "add10=now_plus_10.replace(microsecond=0)\n",
        "upload_date_time = add10.isoformat() + '.000Z'\n",
        "\n",
        "# upload_date_time = datetime.datetime(2020, 12, 25, 12, 30, 0).isoformat() + '.000Z'\n",
        "\n",
        "request_body = {\n",
        "    'snippet': {\n",
        "        'categoryI': 28,\n",
        "        'title': ti_1,\n",
        "        'description': description_for_upload,\n",
        "        'tags': tag1\n",
        "    },\n",
        "    'status': {\n",
        "        'privacyStatus': 'private',\n",
        "        'publishAt': upload_date_time,\n",
        "        'selfDeclaredMadeForKids': False, \n",
        "    },\n",
        "    'notifySubscribers': False\n",
        "}\n",
        "\n",
        "mediaFile = MediaFileUpload('video1.mp4')\n",
        "\n",
        "response_upload = service.videos().insert(\n",
        "    part='snippet,status',\n",
        "    body=request_body,\n",
        "    media_body=mediaFile\n",
        ").execute()\n",
        "\n",
        "\n",
        "service.thumbnails().set(\n",
        "    videoId=response_upload.get('id'),\n",
        "    media_body=MediaFileUpload('thumb1.jpg')\n",
        ").execute()"
      ],
      "execution_count": null,
      "outputs": []
    },
    {
      "cell_type": "code",
      "metadata": {
        "id": "eMlEZQ8gAp2_"
      },
      "source": [
        "#@title ##**Upload video2** { display-mode: \"form\" }\n",
        "import datetime\n",
        "from Google import Create_Service\n",
        "from googleapiclient.http import MediaFileUpload\n",
        "\n",
        "CLIENT_SECRET_FILE = 'client_secret.json'\n",
        "API_NAME = 'youtube'\n",
        "API_VERSION = 'v3'\n",
        "SCOPES = ['https://www.googleapis.com/auth/youtube.upload']\n",
        "\n",
        "service = Create_Service(CLIENT_SECRET_FILE, API_NAME, API_VERSION, SCOPES)\n",
        "now = datetime.datetime.now()\n",
        "now_plus_10 = now + datetime.timedelta(minutes = 300)\n",
        "add10=now_plus_10.replace(microsecond=0)\n",
        "upload_date_time = add10.isoformat() + '.000Z'\n",
        "\n",
        "# upload_date_time = datetime.datetime(2020, 12, 25, 12, 30, 0).isoformat() + '.000Z'\n",
        "\n",
        "request_body = {\n",
        "    'snippet': {\n",
        "        'categoryI': 28,\n",
        "        'title': ti_2,\n",
        "        'description': description_for_upload,\n",
        "        'tags': tag2\n",
        "    },\n",
        "    'status': {\n",
        "        'privacyStatus': 'private',\n",
        "        'publishAt': upload_date_time,\n",
        "        'selfDeclaredMadeForKids': False, \n",
        "    },\n",
        "    'notifySubscribers': False\n",
        "}\n",
        "\n",
        "mediaFile = MediaFileUpload('video2.mp4')\n",
        "\n",
        "response_upload = service.videos().insert(\n",
        "    part='snippet,status',\n",
        "    body=request_body,\n",
        "    media_body=mediaFile\n",
        ").execute()\n",
        "\n",
        "\n",
        "service.thumbnails().set(\n",
        "    videoId=response_upload.get('id'),\n",
        "    media_body=MediaFileUpload('thumb2.jpg')\n",
        ").execute()"
      ],
      "execution_count": null,
      "outputs": []
    },
    {
      "cell_type": "code",
      "metadata": {
        "id": "FPIgE_RQguX8"
      },
      "source": [
        "tag1"
      ],
      "execution_count": null,
      "outputs": []
    },
    {
      "cell_type": "code",
      "metadata": {
        "id": "v008suF3gwLZ"
      },
      "source": [
        "tag2"
      ],
      "execution_count": null,
      "outputs": []
    },
    {
      "cell_type": "code",
      "metadata": {
        "id": "dOfKeoKAluLR"
      },
      "source": [
        "titles"
      ],
      "execution_count": null,
      "outputs": []
    }
  ]
}